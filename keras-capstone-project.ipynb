{
 "cells": [
  {
   "cell_type": "markdown",
   "id": "fbb7ef11",
   "metadata": {
    "_cell_guid": "b1076dfc-b9ad-4769-8c92-a6c4dae69d19",
    "_uuid": "8f2839f25d086af736a60e9eeb907d3b93b6e0e5",
    "papermill": {
     "duration": 0.024636,
     "end_time": "2022-07-27T15:48:45.560087",
     "exception": false,
     "start_time": "2022-07-27T15:48:45.535451",
     "status": "completed"
    },
    "tags": []
   },
   "source": [
    "The Data\n",
    "We will be using a subset of the LendingClub DataSet obtained from Kaggle: https://www.kaggle.com/wordsforthewise/lending-club\n",
    "\n",
    "LendingClub is a US peer-to-peer lending company, headquartered in San Francisco, California.[3] It was the first peer-to-peer lender to register its offerings as securities with the Securities and Exchange Commission (SEC), and to offer loan trading on a secondary market. LendingClub is the world's largest peer-to-peer lending platform.\n",
    "\n",
    "Our Goal:\n",
    "Given historical data on loans given out with information on whether or not the borrower defaulted (charge-off), can we build a model thatcan predict wether or nor a borrower will pay back their loan? This way in the future when we get a new potential customer we can assess whether or not they are likely to pay back the loan. Keep in mind classification metrics when evaluating the performance of your model!"
   ]
  },
  {
   "cell_type": "code",
   "execution_count": 1,
   "id": "de7e871b",
   "metadata": {
    "execution": {
     "iopub.execute_input": "2022-07-27T15:48:45.608937Z",
     "iopub.status.busy": "2022-07-27T15:48:45.608503Z",
     "iopub.status.idle": "2022-07-27T15:48:46.740326Z",
     "shell.execute_reply": "2022-07-27T15:48:46.738636Z"
    },
    "papermill": {
     "duration": 1.159803,
     "end_time": "2022-07-27T15:48:46.743345",
     "exception": false,
     "start_time": "2022-07-27T15:48:45.583542",
     "status": "completed"
    },
    "tags": []
   },
   "outputs": [],
   "source": [
    "import numpy as np\n",
    "import pandas as pd\n",
    "import matplotlib.pyplot as plt\n",
    "import seaborn as sns\n",
    "sns.set_style('whitegrid')\n",
    "%matplotlib inline"
   ]
  },
  {
   "cell_type": "code",
   "execution_count": 2,
   "id": "246a3391",
   "metadata": {
    "execution": {
     "iopub.execute_input": "2022-07-27T15:48:46.793330Z",
     "iopub.status.busy": "2022-07-27T15:48:46.792886Z",
     "iopub.status.idle": "2022-07-27T15:48:46.819243Z",
     "shell.execute_reply": "2022-07-27T15:48:46.818056Z"
    },
    "papermill": {
     "duration": 0.053941,
     "end_time": "2022-07-27T15:48:46.821965",
     "exception": false,
     "start_time": "2022-07-27T15:48:46.768024",
     "status": "completed"
    },
    "tags": []
   },
   "outputs": [],
   "source": [
    "data_info = pd.read_csv('../input/lending-club-data/lending_club_info.csv',index_col='LoanStatNew')"
   ]
  },
  {
   "cell_type": "code",
   "execution_count": 3,
   "id": "83d57a2b",
   "metadata": {
    "execution": {
     "iopub.execute_input": "2022-07-27T15:48:46.870579Z",
     "iopub.status.busy": "2022-07-27T15:48:46.870166Z",
     "iopub.status.idle": "2022-07-27T15:48:46.888756Z",
     "shell.execute_reply": "2022-07-27T15:48:46.887894Z"
    },
    "papermill": {
     "duration": 0.045691,
     "end_time": "2022-07-27T15:48:46.891071",
     "exception": false,
     "start_time": "2022-07-27T15:48:46.845380",
     "status": "completed"
    },
    "tags": []
   },
   "outputs": [
    {
     "data": {
      "text/html": [
       "<div>\n",
       "<style scoped>\n",
       "    .dataframe tbody tr th:only-of-type {\n",
       "        vertical-align: middle;\n",
       "    }\n",
       "\n",
       "    .dataframe tbody tr th {\n",
       "        vertical-align: top;\n",
       "    }\n",
       "\n",
       "    .dataframe thead th {\n",
       "        text-align: right;\n",
       "    }\n",
       "</style>\n",
       "<table border=\"1\" class=\"dataframe\">\n",
       "  <thead>\n",
       "    <tr style=\"text-align: right;\">\n",
       "      <th></th>\n",
       "      <th>Description</th>\n",
       "    </tr>\n",
       "    <tr>\n",
       "      <th>LoanStatNew</th>\n",
       "      <th></th>\n",
       "    </tr>\n",
       "  </thead>\n",
       "  <tbody>\n",
       "    <tr>\n",
       "      <th>loan_amnt</th>\n",
       "      <td>The listed amount of the loan applied for by t...</td>\n",
       "    </tr>\n",
       "    <tr>\n",
       "      <th>term</th>\n",
       "      <td>The number of payments on the loan. Values are...</td>\n",
       "    </tr>\n",
       "    <tr>\n",
       "      <th>int_rate</th>\n",
       "      <td>Interest Rate on the loan</td>\n",
       "    </tr>\n",
       "    <tr>\n",
       "      <th>installment</th>\n",
       "      <td>The monthly payment owed by the borrower if th...</td>\n",
       "    </tr>\n",
       "    <tr>\n",
       "      <th>grade</th>\n",
       "      <td>LC assigned loan grade</td>\n",
       "    </tr>\n",
       "    <tr>\n",
       "      <th>sub_grade</th>\n",
       "      <td>LC assigned loan subgrade</td>\n",
       "    </tr>\n",
       "    <tr>\n",
       "      <th>emp_title</th>\n",
       "      <td>The job title supplied by the Borrower when ap...</td>\n",
       "    </tr>\n",
       "    <tr>\n",
       "      <th>emp_length</th>\n",
       "      <td>Employment length in years. Possible values ar...</td>\n",
       "    </tr>\n",
       "    <tr>\n",
       "      <th>home_ownership</th>\n",
       "      <td>The home ownership status provided by the borr...</td>\n",
       "    </tr>\n",
       "    <tr>\n",
       "      <th>annual_inc</th>\n",
       "      <td>The self-reported annual income provided by th...</td>\n",
       "    </tr>\n",
       "    <tr>\n",
       "      <th>verification_status</th>\n",
       "      <td>Indicates if income was verified by LC, not ve...</td>\n",
       "    </tr>\n",
       "    <tr>\n",
       "      <th>issue_d</th>\n",
       "      <td>The month which the loan was funded</td>\n",
       "    </tr>\n",
       "    <tr>\n",
       "      <th>loan_status</th>\n",
       "      <td>Current status of the loan</td>\n",
       "    </tr>\n",
       "    <tr>\n",
       "      <th>purpose</th>\n",
       "      <td>A category provided by the borrower for the lo...</td>\n",
       "    </tr>\n",
       "    <tr>\n",
       "      <th>title</th>\n",
       "      <td>The loan title provided by the borrower</td>\n",
       "    </tr>\n",
       "    <tr>\n",
       "      <th>zip_code</th>\n",
       "      <td>The first 3 numbers of the zip code provided b...</td>\n",
       "    </tr>\n",
       "    <tr>\n",
       "      <th>addr_state</th>\n",
       "      <td>The state provided by the borrower in the loan...</td>\n",
       "    </tr>\n",
       "    <tr>\n",
       "      <th>dti</th>\n",
       "      <td>A ratio calculated using the borrower’s total ...</td>\n",
       "    </tr>\n",
       "    <tr>\n",
       "      <th>earliest_cr_line</th>\n",
       "      <td>The month the borrower's earliest reported cre...</td>\n",
       "    </tr>\n",
       "    <tr>\n",
       "      <th>open_acc</th>\n",
       "      <td>The number of open credit lines in the borrowe...</td>\n",
       "    </tr>\n",
       "    <tr>\n",
       "      <th>pub_rec</th>\n",
       "      <td>Number of derogatory public records</td>\n",
       "    </tr>\n",
       "    <tr>\n",
       "      <th>revol_bal</th>\n",
       "      <td>Total credit revolving balance</td>\n",
       "    </tr>\n",
       "    <tr>\n",
       "      <th>revol_util</th>\n",
       "      <td>Revolving line utilization rate, or the amount...</td>\n",
       "    </tr>\n",
       "    <tr>\n",
       "      <th>total_acc</th>\n",
       "      <td>The total number of credit lines currently in ...</td>\n",
       "    </tr>\n",
       "    <tr>\n",
       "      <th>initial_list_status</th>\n",
       "      <td>The initial listing status of the loan. Possib...</td>\n",
       "    </tr>\n",
       "    <tr>\n",
       "      <th>application_type</th>\n",
       "      <td>Indicates whether the loan is an individual ap...</td>\n",
       "    </tr>\n",
       "    <tr>\n",
       "      <th>mort_acc</th>\n",
       "      <td>Number of mortgage accounts.</td>\n",
       "    </tr>\n",
       "    <tr>\n",
       "      <th>pub_rec_bankruptcies</th>\n",
       "      <td>Number of public record bankruptcies</td>\n",
       "    </tr>\n",
       "  </tbody>\n",
       "</table>\n",
       "</div>"
      ],
      "text/plain": [
       "                                                            Description\n",
       "LoanStatNew                                                            \n",
       "loan_amnt             The listed amount of the loan applied for by t...\n",
       "term                  The number of payments on the loan. Values are...\n",
       "int_rate                                      Interest Rate on the loan\n",
       "installment           The monthly payment owed by the borrower if th...\n",
       "grade                                            LC assigned loan grade\n",
       "sub_grade                                     LC assigned loan subgrade\n",
       "emp_title             The job title supplied by the Borrower when ap...\n",
       "emp_length            Employment length in years. Possible values ar...\n",
       "home_ownership        The home ownership status provided by the borr...\n",
       "annual_inc            The self-reported annual income provided by th...\n",
       "verification_status   Indicates if income was verified by LC, not ve...\n",
       "issue_d                             The month which the loan was funded\n",
       "loan_status                                  Current status of the loan\n",
       "purpose               A category provided by the borrower for the lo...\n",
       "title                           The loan title provided by the borrower\n",
       "zip_code              The first 3 numbers of the zip code provided b...\n",
       "addr_state            The state provided by the borrower in the loan...\n",
       "dti                   A ratio calculated using the borrower’s total ...\n",
       "earliest_cr_line      The month the borrower's earliest reported cre...\n",
       "open_acc              The number of open credit lines in the borrowe...\n",
       "pub_rec                             Number of derogatory public records\n",
       "revol_bal                                Total credit revolving balance\n",
       "revol_util            Revolving line utilization rate, or the amount...\n",
       "total_acc             The total number of credit lines currently in ...\n",
       "initial_list_status   The initial listing status of the loan. Possib...\n",
       "application_type      Indicates whether the loan is an individual ap...\n",
       "mort_acc                                   Number of mortgage accounts.\n",
       "pub_rec_bankruptcies               Number of public record bankruptcies"
      ]
     },
     "execution_count": 3,
     "metadata": {},
     "output_type": "execute_result"
    }
   ],
   "source": [
    "data_info"
   ]
  },
  {
   "cell_type": "code",
   "execution_count": 4,
   "id": "3e008143",
   "metadata": {
    "execution": {
     "iopub.execute_input": "2022-07-27T15:48:46.941352Z",
     "iopub.status.busy": "2022-07-27T15:48:46.940578Z",
     "iopub.status.idle": "2022-07-27T15:48:46.944969Z",
     "shell.execute_reply": "2022-07-27T15:48:46.944115Z"
    },
    "papermill": {
     "duration": 0.032347,
     "end_time": "2022-07-27T15:48:46.947328",
     "exception": false,
     "start_time": "2022-07-27T15:48:46.914981",
     "status": "completed"
    },
    "tags": []
   },
   "outputs": [],
   "source": [
    "def info(name):\n",
    "    print(data_info.loc[name]['Description'])"
   ]
  },
  {
   "cell_type": "code",
   "execution_count": 5,
   "id": "566f6527",
   "metadata": {
    "execution": {
     "iopub.execute_input": "2022-07-27T15:48:46.998567Z",
     "iopub.status.busy": "2022-07-27T15:48:46.998125Z",
     "iopub.status.idle": "2022-07-27T15:48:47.005493Z",
     "shell.execute_reply": "2022-07-27T15:48:47.004342Z"
    },
    "papermill": {
     "duration": 0.035904,
     "end_time": "2022-07-27T15:48:47.007931",
     "exception": false,
     "start_time": "2022-07-27T15:48:46.972027",
     "status": "completed"
    },
    "tags": []
   },
   "outputs": [
    {
     "name": "stdout",
     "output_type": "stream",
     "text": [
      "The number of payments on the loan. Values are in months and can be either 36 or 60.\n"
     ]
    }
   ],
   "source": [
    "info('term')"
   ]
  },
  {
   "cell_type": "code",
   "execution_count": 6,
   "id": "3e96cf70",
   "metadata": {
    "execution": {
     "iopub.execute_input": "2022-07-27T15:48:47.058303Z",
     "iopub.status.busy": "2022-07-27T15:48:47.057826Z",
     "iopub.status.idle": "2022-07-27T15:48:50.632912Z",
     "shell.execute_reply": "2022-07-27T15:48:50.631590Z"
    },
    "papermill": {
     "duration": 3.603391,
     "end_time": "2022-07-27T15:48:50.635850",
     "exception": false,
     "start_time": "2022-07-27T15:48:47.032459",
     "status": "completed"
    },
    "tags": []
   },
   "outputs": [],
   "source": [
    "df = pd.read_csv('../input/lending-club-data/lending_club_loan_two.csv')"
   ]
  },
  {
   "cell_type": "code",
   "execution_count": 7,
   "id": "f62f3390",
   "metadata": {
    "execution": {
     "iopub.execute_input": "2022-07-27T15:48:50.685712Z",
     "iopub.status.busy": "2022-07-27T15:48:50.685321Z",
     "iopub.status.idle": "2022-07-27T15:48:50.716646Z",
     "shell.execute_reply": "2022-07-27T15:48:50.715858Z"
    },
    "papermill": {
     "duration": 0.058872,
     "end_time": "2022-07-27T15:48:50.718522",
     "exception": false,
     "start_time": "2022-07-27T15:48:50.659650",
     "status": "completed"
    },
    "tags": []
   },
   "outputs": [
    {
     "data": {
      "text/html": [
       "<div>\n",
       "<style scoped>\n",
       "    .dataframe tbody tr th:only-of-type {\n",
       "        vertical-align: middle;\n",
       "    }\n",
       "\n",
       "    .dataframe tbody tr th {\n",
       "        vertical-align: top;\n",
       "    }\n",
       "\n",
       "    .dataframe thead th {\n",
       "        text-align: right;\n",
       "    }\n",
       "</style>\n",
       "<table border=\"1\" class=\"dataframe\">\n",
       "  <thead>\n",
       "    <tr style=\"text-align: right;\">\n",
       "      <th></th>\n",
       "      <th>loan_amnt</th>\n",
       "      <th>term</th>\n",
       "      <th>int_rate</th>\n",
       "      <th>installment</th>\n",
       "      <th>grade</th>\n",
       "      <th>sub_grade</th>\n",
       "      <th>emp_title</th>\n",
       "      <th>emp_length</th>\n",
       "      <th>home_ownership</th>\n",
       "      <th>annual_inc</th>\n",
       "      <th>...</th>\n",
       "      <th>open_acc</th>\n",
       "      <th>pub_rec</th>\n",
       "      <th>revol_bal</th>\n",
       "      <th>revol_util</th>\n",
       "      <th>total_acc</th>\n",
       "      <th>initial_list_status</th>\n",
       "      <th>application_type</th>\n",
       "      <th>mort_acc</th>\n",
       "      <th>pub_rec_bankruptcies</th>\n",
       "      <th>address</th>\n",
       "    </tr>\n",
       "  </thead>\n",
       "  <tbody>\n",
       "    <tr>\n",
       "      <th>0</th>\n",
       "      <td>10000.0</td>\n",
       "      <td>36 months</td>\n",
       "      <td>11.44</td>\n",
       "      <td>329.48</td>\n",
       "      <td>B</td>\n",
       "      <td>B4</td>\n",
       "      <td>Marketing</td>\n",
       "      <td>10+ years</td>\n",
       "      <td>RENT</td>\n",
       "      <td>117000.0</td>\n",
       "      <td>...</td>\n",
       "      <td>16.0</td>\n",
       "      <td>0.0</td>\n",
       "      <td>36369.0</td>\n",
       "      <td>41.8</td>\n",
       "      <td>25.0</td>\n",
       "      <td>w</td>\n",
       "      <td>INDIVIDUAL</td>\n",
       "      <td>0.0</td>\n",
       "      <td>0.0</td>\n",
       "      <td>0174 Michelle Gateway\\nMendozaberg, OK 22690</td>\n",
       "    </tr>\n",
       "    <tr>\n",
       "      <th>1</th>\n",
       "      <td>8000.0</td>\n",
       "      <td>36 months</td>\n",
       "      <td>11.99</td>\n",
       "      <td>265.68</td>\n",
       "      <td>B</td>\n",
       "      <td>B5</td>\n",
       "      <td>Credit analyst</td>\n",
       "      <td>4 years</td>\n",
       "      <td>MORTGAGE</td>\n",
       "      <td>65000.0</td>\n",
       "      <td>...</td>\n",
       "      <td>17.0</td>\n",
       "      <td>0.0</td>\n",
       "      <td>20131.0</td>\n",
       "      <td>53.3</td>\n",
       "      <td>27.0</td>\n",
       "      <td>f</td>\n",
       "      <td>INDIVIDUAL</td>\n",
       "      <td>3.0</td>\n",
       "      <td>0.0</td>\n",
       "      <td>1076 Carney Fort Apt. 347\\nLoganmouth, SD 05113</td>\n",
       "    </tr>\n",
       "    <tr>\n",
       "      <th>2</th>\n",
       "      <td>15600.0</td>\n",
       "      <td>36 months</td>\n",
       "      <td>10.49</td>\n",
       "      <td>506.97</td>\n",
       "      <td>B</td>\n",
       "      <td>B3</td>\n",
       "      <td>Statistician</td>\n",
       "      <td>&lt; 1 year</td>\n",
       "      <td>RENT</td>\n",
       "      <td>43057.0</td>\n",
       "      <td>...</td>\n",
       "      <td>13.0</td>\n",
       "      <td>0.0</td>\n",
       "      <td>11987.0</td>\n",
       "      <td>92.2</td>\n",
       "      <td>26.0</td>\n",
       "      <td>f</td>\n",
       "      <td>INDIVIDUAL</td>\n",
       "      <td>0.0</td>\n",
       "      <td>0.0</td>\n",
       "      <td>87025 Mark Dale Apt. 269\\nNew Sabrina, WV 05113</td>\n",
       "    </tr>\n",
       "    <tr>\n",
       "      <th>3</th>\n",
       "      <td>7200.0</td>\n",
       "      <td>36 months</td>\n",
       "      <td>6.49</td>\n",
       "      <td>220.65</td>\n",
       "      <td>A</td>\n",
       "      <td>A2</td>\n",
       "      <td>Client Advocate</td>\n",
       "      <td>6 years</td>\n",
       "      <td>RENT</td>\n",
       "      <td>54000.0</td>\n",
       "      <td>...</td>\n",
       "      <td>6.0</td>\n",
       "      <td>0.0</td>\n",
       "      <td>5472.0</td>\n",
       "      <td>21.5</td>\n",
       "      <td>13.0</td>\n",
       "      <td>f</td>\n",
       "      <td>INDIVIDUAL</td>\n",
       "      <td>0.0</td>\n",
       "      <td>0.0</td>\n",
       "      <td>823 Reid Ford\\nDelacruzside, MA 00813</td>\n",
       "    </tr>\n",
       "    <tr>\n",
       "      <th>4</th>\n",
       "      <td>24375.0</td>\n",
       "      <td>60 months</td>\n",
       "      <td>17.27</td>\n",
       "      <td>609.33</td>\n",
       "      <td>C</td>\n",
       "      <td>C5</td>\n",
       "      <td>Destiny Management Inc.</td>\n",
       "      <td>9 years</td>\n",
       "      <td>MORTGAGE</td>\n",
       "      <td>55000.0</td>\n",
       "      <td>...</td>\n",
       "      <td>13.0</td>\n",
       "      <td>0.0</td>\n",
       "      <td>24584.0</td>\n",
       "      <td>69.8</td>\n",
       "      <td>43.0</td>\n",
       "      <td>f</td>\n",
       "      <td>INDIVIDUAL</td>\n",
       "      <td>1.0</td>\n",
       "      <td>0.0</td>\n",
       "      <td>679 Luna Roads\\nGreggshire, VA 11650</td>\n",
       "    </tr>\n",
       "  </tbody>\n",
       "</table>\n",
       "<p>5 rows × 27 columns</p>\n",
       "</div>"
      ],
      "text/plain": [
       "   loan_amnt        term  int_rate  installment grade sub_grade  \\\n",
       "0    10000.0   36 months     11.44       329.48     B        B4   \n",
       "1     8000.0   36 months     11.99       265.68     B        B5   \n",
       "2    15600.0   36 months     10.49       506.97     B        B3   \n",
       "3     7200.0   36 months      6.49       220.65     A        A2   \n",
       "4    24375.0   60 months     17.27       609.33     C        C5   \n",
       "\n",
       "                 emp_title emp_length home_ownership  annual_inc  ...  \\\n",
       "0                Marketing  10+ years           RENT    117000.0  ...   \n",
       "1          Credit analyst     4 years       MORTGAGE     65000.0  ...   \n",
       "2             Statistician   < 1 year           RENT     43057.0  ...   \n",
       "3          Client Advocate    6 years           RENT     54000.0  ...   \n",
       "4  Destiny Management Inc.    9 years       MORTGAGE     55000.0  ...   \n",
       "\n",
       "  open_acc pub_rec revol_bal revol_util total_acc  initial_list_status  \\\n",
       "0     16.0     0.0   36369.0       41.8      25.0                    w   \n",
       "1     17.0     0.0   20131.0       53.3      27.0                    f   \n",
       "2     13.0     0.0   11987.0       92.2      26.0                    f   \n",
       "3      6.0     0.0    5472.0       21.5      13.0                    f   \n",
       "4     13.0     0.0   24584.0       69.8      43.0                    f   \n",
       "\n",
       "  application_type  mort_acc  pub_rec_bankruptcies  \\\n",
       "0       INDIVIDUAL       0.0                   0.0   \n",
       "1       INDIVIDUAL       3.0                   0.0   \n",
       "2       INDIVIDUAL       0.0                   0.0   \n",
       "3       INDIVIDUAL       0.0                   0.0   \n",
       "4       INDIVIDUAL       1.0                   0.0   \n",
       "\n",
       "                                           address  \n",
       "0     0174 Michelle Gateway\\nMendozaberg, OK 22690  \n",
       "1  1076 Carney Fort Apt. 347\\nLoganmouth, SD 05113  \n",
       "2  87025 Mark Dale Apt. 269\\nNew Sabrina, WV 05113  \n",
       "3            823 Reid Ford\\nDelacruzside, MA 00813  \n",
       "4             679 Luna Roads\\nGreggshire, VA 11650  \n",
       "\n",
       "[5 rows x 27 columns]"
      ]
     },
     "execution_count": 7,
     "metadata": {},
     "output_type": "execute_result"
    }
   ],
   "source": [
    "df.head()"
   ]
  },
  {
   "cell_type": "code",
   "execution_count": 8,
   "id": "a7ed033a",
   "metadata": {
    "execution": {
     "iopub.execute_input": "2022-07-27T15:48:50.769679Z",
     "iopub.status.busy": "2022-07-27T15:48:50.768726Z",
     "iopub.status.idle": "2022-07-27T15:48:51.055546Z",
     "shell.execute_reply": "2022-07-27T15:48:51.054220Z"
    },
    "papermill": {
     "duration": 0.315479,
     "end_time": "2022-07-27T15:48:51.058370",
     "exception": false,
     "start_time": "2022-07-27T15:48:50.742891",
     "status": "completed"
    },
    "tags": []
   },
   "outputs": [
    {
     "name": "stdout",
     "output_type": "stream",
     "text": [
      "<class 'pandas.core.frame.DataFrame'>\n",
      "RangeIndex: 396030 entries, 0 to 396029\n",
      "Data columns (total 27 columns):\n",
      " #   Column                Non-Null Count   Dtype  \n",
      "---  ------                --------------   -----  \n",
      " 0   loan_amnt             396030 non-null  float64\n",
      " 1   term                  396030 non-null  object \n",
      " 2   int_rate              396030 non-null  float64\n",
      " 3   installment           396030 non-null  float64\n",
      " 4   grade                 396030 non-null  object \n",
      " 5   sub_grade             396030 non-null  object \n",
      " 6   emp_title             373103 non-null  object \n",
      " 7   emp_length            377729 non-null  object \n",
      " 8   home_ownership        396030 non-null  object \n",
      " 9   annual_inc            396030 non-null  float64\n",
      " 10  verification_status   396030 non-null  object \n",
      " 11  issue_d               396030 non-null  object \n",
      " 12  loan_status           396030 non-null  object \n",
      " 13  purpose               396030 non-null  object \n",
      " 14  title                 394275 non-null  object \n",
      " 15  dti                   396030 non-null  float64\n",
      " 16  earliest_cr_line      396030 non-null  object \n",
      " 17  open_acc              396030 non-null  float64\n",
      " 18  pub_rec               396030 non-null  float64\n",
      " 19  revol_bal             396030 non-null  float64\n",
      " 20  revol_util            395754 non-null  float64\n",
      " 21  total_acc             396030 non-null  float64\n",
      " 22  initial_list_status   396030 non-null  object \n",
      " 23  application_type      396030 non-null  object \n",
      " 24  mort_acc              358235 non-null  float64\n",
      " 25  pub_rec_bankruptcies  395495 non-null  float64\n",
      " 26  address               396030 non-null  object \n",
      "dtypes: float64(12), object(15)\n",
      "memory usage: 81.6+ MB\n"
     ]
    }
   ],
   "source": [
    "df.info()"
   ]
  },
  {
   "cell_type": "markdown",
   "id": "9b042df3",
   "metadata": {
    "papermill": {
     "duration": 0.023785,
     "end_time": "2022-07-27T15:48:51.107773",
     "exception": false,
     "start_time": "2022-07-27T15:48:51.083988",
     "status": "completed"
    },
    "tags": []
   },
   "source": [
    "# Section 1: Exploratory Data Analysis\n",
    "## OVERALL GOAL: Get an understanding for which variables are important, view summary statistics, and visualize the data\n",
    "\n"
   ]
  },
  {
   "cell_type": "code",
   "execution_count": 9,
   "id": "1fa5c5c0",
   "metadata": {
    "execution": {
     "iopub.execute_input": "2022-07-27T15:48:51.159201Z",
     "iopub.status.busy": "2022-07-27T15:48:51.158403Z",
     "iopub.status.idle": "2022-07-27T15:48:51.610221Z",
     "shell.execute_reply": "2022-07-27T15:48:51.608667Z"
    },
    "papermill": {
     "duration": 0.481395,
     "end_time": "2022-07-27T15:48:51.613668",
     "exception": false,
     "start_time": "2022-07-27T15:48:51.132273",
     "status": "completed"
    },
    "tags": []
   },
   "outputs": [
    {
     "data": {
      "text/plain": [
       "<AxesSubplot:xlabel='loan_status', ylabel='count'>"
      ]
     },
     "execution_count": 9,
     "metadata": {},
     "output_type": "execute_result"
    },
    {
     "data": {
      "image/png": "[encoded data removed]",
      "text/plain": [
       "<Figure size 432x288 with 1 Axes>"
      ]
     },
     "metadata": {
      "needs_background": "light"
     },
     "output_type": "display_data"
    }
   ],
   "source": [
    "sns.countplot(x='loan_status', data =df)"
   ]
  },
  {
   "cell_type": "code",
   "execution_count": 10,
   "id": "80b9dbc9",
   "metadata": {
    "execution": {
     "iopub.execute_input": "2022-07-27T15:48:51.664462Z",
     "iopub.status.busy": "2022-07-27T15:48:51.664038Z",
     "iopub.status.idle": "2022-07-27T15:48:52.022180Z",
     "shell.execute_reply": "2022-07-27T15:48:52.020827Z"
    },
    "papermill": {
     "duration": 0.386595,
     "end_time": "2022-07-27T15:48:52.024706",
     "exception": false,
     "start_time": "2022-07-27T15:48:51.638111",
     "status": "completed"
    },
    "tags": []
   },
   "outputs": [
    {
     "data": {
      "text/plain": [
       "<AxesSubplot:xlabel='loan_amnt', ylabel='Count'>"
      ]
     },
     "execution_count": 10,
     "metadata": {},
     "output_type": "execute_result"
    },
    {
     "data": {
      "image/png": "[encoded data removed]",
      "text/plain": [
       "<Figure size 432x288 with 1 Axes>"
      ]
     },
     "metadata": {
      "needs_background": "light"
     },
     "output_type": "display_data"
    }
   ],
   "source": [
    "sns.histplot(x='loan_amnt', data =df, bins=20)"
   ]
  },
  {
   "cell_type": "markdown",
   "id": "3c1010d3",
   "metadata": {
    "papermill": {
     "duration": 0.026144,
     "end_time": "2022-07-27T15:48:52.075973",
     "exception": false,
     "start_time": "2022-07-27T15:48:52.049829",
     "status": "completed"
    },
    "tags": []
   },
   "source": [
    " Let's explore correlation between the continuous feature variables"
   ]
  },
  {
   "cell_type": "code",
   "execution_count": 11,
   "id": "4e22ebb6",
   "metadata": {
    "execution": {
     "iopub.execute_input": "2022-07-27T15:48:52.129593Z",
     "iopub.status.busy": "2022-07-27T15:48:52.128765Z",
     "iopub.status.idle": "2022-07-27T15:48:52.345424Z",
     "shell.execute_reply": "2022-07-27T15:48:52.344243Z"
    },
    "papermill": {
     "duration": 0.245483,
     "end_time": "2022-07-27T15:48:52.347750",
     "exception": false,
     "start_time": "2022-07-27T15:48:52.102267",
     "status": "completed"
    },
    "tags": []
   },
   "outputs": [
    {
     "data": {
      "text/html": [
       "<div>\n",
       "<style scoped>\n",
       "    .dataframe tbody tr th:only-of-type {\n",
       "        vertical-align: middle;\n",
       "    }\n",
       "\n",
       "    .dataframe tbody tr th {\n",
       "        vertical-align: top;\n",
       "    }\n",
       "\n",
       "    .dataframe thead th {\n",
       "        text-align: right;\n",
       "    }\n",
       "</style>\n",
       "<table border=\"1\" class=\"dataframe\">\n",
       "  <thead>\n",
       "    <tr style=\"text-align: right;\">\n",
       "      <th></th>\n",
       "      <th>loan_amnt</th>\n",
       "      <th>int_rate</th>\n",
       "      <th>installment</th>\n",
       "      <th>annual_inc</th>\n",
       "      <th>dti</th>\n",
       "      <th>open_acc</th>\n",
       "      <th>pub_rec</th>\n",
       "      <th>revol_bal</th>\n",
       "      <th>revol_util</th>\n",
       "      <th>total_acc</th>\n",
       "      <th>mort_acc</th>\n",
       "      <th>pub_rec_bankruptcies</th>\n",
       "    </tr>\n",
       "  </thead>\n",
       "  <tbody>\n",
       "    <tr>\n",
       "      <th>loan_amnt</th>\n",
       "      <td>1.000000</td>\n",
       "      <td>0.168921</td>\n",
       "      <td>0.953929</td>\n",
       "      <td>0.336887</td>\n",
       "      <td>0.016636</td>\n",
       "      <td>0.198556</td>\n",
       "      <td>-0.077779</td>\n",
       "      <td>0.328320</td>\n",
       "      <td>0.099911</td>\n",
       "      <td>0.223886</td>\n",
       "      <td>0.222315</td>\n",
       "      <td>-0.106539</td>\n",
       "    </tr>\n",
       "    <tr>\n",
       "      <th>int_rate</th>\n",
       "      <td>0.168921</td>\n",
       "      <td>1.000000</td>\n",
       "      <td>0.162758</td>\n",
       "      <td>-0.056771</td>\n",
       "      <td>0.079038</td>\n",
       "      <td>0.011649</td>\n",
       "      <td>0.060986</td>\n",
       "      <td>-0.011280</td>\n",
       "      <td>0.293659</td>\n",
       "      <td>-0.036404</td>\n",
       "      <td>-0.082583</td>\n",
       "      <td>0.057450</td>\n",
       "    </tr>\n",
       "    <tr>\n",
       "      <th>installment</th>\n",
       "      <td>0.953929</td>\n",
       "      <td>0.162758</td>\n",
       "      <td>1.000000</td>\n",
       "      <td>0.330381</td>\n",
       "      <td>0.015786</td>\n",
       "      <td>0.188973</td>\n",
       "      <td>-0.067892</td>\n",
       "      <td>0.316455</td>\n",
       "      <td>0.123915</td>\n",
       "      <td>0.202430</td>\n",
       "      <td>0.193694</td>\n",
       "      <td>-0.098628</td>\n",
       "    </tr>\n",
       "    <tr>\n",
       "      <th>annual_inc</th>\n",
       "      <td>0.336887</td>\n",
       "      <td>-0.056771</td>\n",
       "      <td>0.330381</td>\n",
       "      <td>1.000000</td>\n",
       "      <td>-0.081685</td>\n",
       "      <td>0.136150</td>\n",
       "      <td>-0.013720</td>\n",
       "      <td>0.299773</td>\n",
       "      <td>0.027871</td>\n",
       "      <td>0.193023</td>\n",
       "      <td>0.236320</td>\n",
       "      <td>-0.050162</td>\n",
       "    </tr>\n",
       "    <tr>\n",
       "      <th>dti</th>\n",
       "      <td>0.016636</td>\n",
       "      <td>0.079038</td>\n",
       "      <td>0.015786</td>\n",
       "      <td>-0.081685</td>\n",
       "      <td>1.000000</td>\n",
       "      <td>0.136181</td>\n",
       "      <td>-0.017639</td>\n",
       "      <td>0.063571</td>\n",
       "      <td>0.088375</td>\n",
       "      <td>0.102128</td>\n",
       "      <td>-0.025439</td>\n",
       "      <td>-0.014558</td>\n",
       "    </tr>\n",
       "    <tr>\n",
       "      <th>open_acc</th>\n",
       "      <td>0.198556</td>\n",
       "      <td>0.011649</td>\n",
       "      <td>0.188973</td>\n",
       "      <td>0.136150</td>\n",
       "      <td>0.136181</td>\n",
       "      <td>1.000000</td>\n",
       "      <td>-0.018392</td>\n",
       "      <td>0.221192</td>\n",
       "      <td>-0.131420</td>\n",
       "      <td>0.680728</td>\n",
       "      <td>0.109205</td>\n",
       "      <td>-0.027732</td>\n",
       "    </tr>\n",
       "    <tr>\n",
       "      <th>pub_rec</th>\n",
       "      <td>-0.077779</td>\n",
       "      <td>0.060986</td>\n",
       "      <td>-0.067892</td>\n",
       "      <td>-0.013720</td>\n",
       "      <td>-0.017639</td>\n",
       "      <td>-0.018392</td>\n",
       "      <td>1.000000</td>\n",
       "      <td>-0.101664</td>\n",
       "      <td>-0.075910</td>\n",
       "      <td>0.019723</td>\n",
       "      <td>0.011552</td>\n",
       "      <td>0.699408</td>\n",
       "    </tr>\n",
       "    <tr>\n",
       "      <th>revol_bal</th>\n",
       "      <td>0.328320</td>\n",
       "      <td>-0.011280</td>\n",
       "      <td>0.316455</td>\n",
       "      <td>0.299773</td>\n",
       "      <td>0.063571</td>\n",
       "      <td>0.221192</td>\n",
       "      <td>-0.101664</td>\n",
       "      <td>1.000000</td>\n",
       "      <td>0.226346</td>\n",
       "      <td>0.191616</td>\n",
       "      <td>0.194925</td>\n",
       "      <td>-0.124532</td>\n",
       "    </tr>\n",
       "    <tr>\n",
       "      <th>revol_util</th>\n",
       "      <td>0.099911</td>\n",
       "      <td>0.293659</td>\n",
       "      <td>0.123915</td>\n",
       "      <td>0.027871</td>\n",
       "      <td>0.088375</td>\n",
       "      <td>-0.131420</td>\n",
       "      <td>-0.075910</td>\n",
       "      <td>0.226346</td>\n",
       "      <td>1.000000</td>\n",
       "      <td>-0.104273</td>\n",
       "      <td>0.007514</td>\n",
       "      <td>-0.086751</td>\n",
       "    </tr>\n",
       "    <tr>\n",
       "      <th>total_acc</th>\n",
       "      <td>0.223886</td>\n",
       "      <td>-0.036404</td>\n",
       "      <td>0.202430</td>\n",
       "      <td>0.193023</td>\n",
       "      <td>0.102128</td>\n",
       "      <td>0.680728</td>\n",
       "      <td>0.019723</td>\n",
       "      <td>0.191616</td>\n",
       "      <td>-0.104273</td>\n",
       "      <td>1.000000</td>\n",
       "      <td>0.381072</td>\n",
       "      <td>0.042035</td>\n",
       "    </tr>\n",
       "    <tr>\n",
       "      <th>mort_acc</th>\n",
       "      <td>0.222315</td>\n",
       "      <td>-0.082583</td>\n",
       "      <td>0.193694</td>\n",
       "      <td>0.236320</td>\n",
       "      <td>-0.025439</td>\n",
       "      <td>0.109205</td>\n",
       "      <td>0.011552</td>\n",
       "      <td>0.194925</td>\n",
       "      <td>0.007514</td>\n",
       "      <td>0.381072</td>\n",
       "      <td>1.000000</td>\n",
       "      <td>0.027239</td>\n",
       "    </tr>\n",
       "    <tr>\n",
       "      <th>pub_rec_bankruptcies</th>\n",
       "      <td>-0.106539</td>\n",
       "      <td>0.057450</td>\n",
       "      <td>-0.098628</td>\n",
       "      <td>-0.050162</td>\n",
       "      <td>-0.014558</td>\n",
       "      <td>-0.027732</td>\n",
       "      <td>0.699408</td>\n",
       "      <td>-0.124532</td>\n",
       "      <td>-0.086751</td>\n",
       "      <td>0.042035</td>\n",
       "      <td>0.027239</td>\n",
       "      <td>1.000000</td>\n",
       "    </tr>\n",
       "  </tbody>\n",
       "</table>\n",
       "</div>"
      ],
      "text/plain": [
       "                      loan_amnt  int_rate  installment  annual_inc       dti  \\\n",
       "loan_amnt              1.000000  0.168921     0.953929    0.336887  0.016636   \n",
       "int_rate               0.168921  1.000000     0.162758   -0.056771  0.079038   \n",
       "installment            0.953929  0.162758     1.000000    0.330381  0.015786   \n",
       "annual_inc             0.336887 -0.056771     0.330381    1.000000 -0.081685   \n",
       "dti                    0.016636  0.079038     0.015786   -0.081685  1.000000   \n",
       "open_acc               0.198556  0.011649     0.188973    0.136150  0.136181   \n",
       "pub_rec               -0.077779  0.060986    -0.067892   -0.013720 -0.017639   \n",
       "revol_bal              0.328320 -0.011280     0.316455    0.299773  0.063571   \n",
       "revol_util             0.099911  0.293659     0.123915    0.027871  0.088375   \n",
       "total_acc              0.223886 -0.036404     0.202430    0.193023  0.102128   \n",
       "mort_acc               0.222315 -0.082583     0.193694    0.236320 -0.025439   \n",
       "pub_rec_bankruptcies  -0.106539  0.057450    -0.098628   -0.050162 -0.014558   \n",
       "\n",
       "                      open_acc   pub_rec  revol_bal  revol_util  total_acc  \\\n",
       "loan_amnt             0.198556 -0.077779   0.328320    0.099911   0.223886   \n",
       "int_rate              0.011649  0.060986  -0.011280    0.293659  -0.036404   \n",
       "installment           0.188973 -0.067892   0.316455    0.123915   0.202430   \n",
       "annual_inc            0.136150 -0.013720   0.299773    0.027871   0.193023   \n",
       "dti                   0.136181 -0.017639   0.063571    0.088375   0.102128   \n",
       "open_acc              1.000000 -0.018392   0.221192   -0.131420   0.680728   \n",
       "pub_rec              -0.018392  1.000000  -0.101664   -0.075910   0.019723   \n",
       "revol_bal             0.221192 -0.101664   1.000000    0.226346   0.191616   \n",
       "revol_util           -0.131420 -0.075910   0.226346    1.000000  -0.104273   \n",
       "total_acc             0.680728  0.019723   0.191616   -0.104273   1.000000   \n",
       "mort_acc              0.109205  0.011552   0.194925    0.007514   0.381072   \n",
       "pub_rec_bankruptcies -0.027732  0.699408  -0.124532   -0.086751   0.042035   \n",
       "\n",
       "                      mort_acc  pub_rec_bankruptcies  \n",
       "loan_amnt             0.222315             -0.106539  \n",
       "int_rate             -0.082583              0.057450  \n",
       "installment           0.193694             -0.098628  \n",
       "annual_inc            0.236320             -0.050162  \n",
       "dti                  -0.025439             -0.014558  \n",
       "open_acc              0.109205             -0.027732  \n",
       "pub_rec               0.011552              0.699408  \n",
       "revol_bal             0.194925             -0.124532  \n",
       "revol_util            0.007514             -0.086751  \n",
       "total_acc             0.381072              0.042035  \n",
       "mort_acc              1.000000              0.027239  \n",
       "pub_rec_bankruptcies  0.027239              1.000000  "
      ]
     },
     "execution_count": 11,
     "metadata": {},
     "output_type": "execute_result"
    }
   ],
   "source": [
    "df.corr()"
   ]
  },
  {
   "cell_type": "code",
   "execution_count": 12,
   "id": "60df9908",
   "metadata": {
    "execution": {
     "iopub.execute_input": "2022-07-27T15:48:52.400736Z",
     "iopub.status.busy": "2022-07-27T15:48:52.399871Z",
     "iopub.status.idle": "2022-07-27T15:48:53.455203Z",
     "shell.execute_reply": "2022-07-27T15:48:53.453958Z"
    },
    "papermill": {
     "duration": 1.08507,
     "end_time": "2022-07-27T15:48:53.458046",
     "exception": false,
     "start_time": "2022-07-27T15:48:52.372976",
     "status": "completed"
    },
    "tags": []
   },
   "outputs": [
    {
     "data": {
      "text/plain": [
       "<AxesSubplot:>"
      ]
     },
     "execution_count": 12,
     "metadata": {},
     "output_type": "execute_result"
    },
    {
     "data": {
      "image/png": "[encoded data removed]",
      "text/plain": [
       "<Figure size 792x576 with 2 Axes>"
      ]
     },
     "metadata": {},
     "output_type": "display_data"
    }
   ],
   "source": [
    "sns.set(rc={'figure.figsize':(11,8)})\n",
    "\n",
    "sns.heatmap(data = df.corr(), annot=True, cmap='coolwarm')"
   ]
  },
  {
   "cell_type": "code",
   "execution_count": 13,
   "id": "8aed0abb",
   "metadata": {
    "execution": {
     "iopub.execute_input": "2022-07-27T15:48:53.515010Z",
     "iopub.status.busy": "2022-07-27T15:48:53.513939Z",
     "iopub.status.idle": "2022-07-27T15:48:53.521030Z",
     "shell.execute_reply": "2022-07-27T15:48:53.519997Z"
    },
    "papermill": {
     "duration": 0.037418,
     "end_time": "2022-07-27T15:48:53.523229",
     "exception": false,
     "start_time": "2022-07-27T15:48:53.485811",
     "status": "completed"
    },
    "tags": []
   },
   "outputs": [
    {
     "name": "stdout",
     "output_type": "stream",
     "text": [
      "The listed amount of the loan applied for by the borrower. If at some point in time, the credit department reduces the loan amount, then it will be reflected in this value.\n",
      "The monthly payment owed by the borrower if the loan originates.\n"
     ]
    }
   ],
   "source": [
    "info('loan_amnt')\n",
    "info('installment')"
   ]
  },
  {
   "cell_type": "code",
   "execution_count": 14,
   "id": "d0f9a6a2",
   "metadata": {
    "execution": {
     "iopub.execute_input": "2022-07-27T15:48:53.580883Z",
     "iopub.status.busy": "2022-07-27T15:48:53.580093Z",
     "iopub.status.idle": "2022-07-27T15:48:54.584537Z",
     "shell.execute_reply": "2022-07-27T15:48:54.583308Z"
    },
    "papermill": {
     "duration": 1.038261,
     "end_time": "2022-07-27T15:48:54.588530",
     "exception": false,
     "start_time": "2022-07-27T15:48:53.550269",
     "status": "completed"
    },
    "tags": []
   },
   "outputs": [
    {
     "data": {
      "text/plain": [
       "<AxesSubplot:xlabel='installment', ylabel='loan_amnt'>"
      ]
     },
     "execution_count": 14,
     "metadata": {},
     "output_type": "execute_result"
    },
    {
     "data": {
      "image/png": "[encoded data removed]",
      "text/plain": [
       "<Figure size 792x576 with 1 Axes>"
      ]
     },
     "metadata": {},
     "output_type": "display_data"
    }
   ],
   "source": [
    "sns.scatterplot(x= 'installment', y= 'loan_amnt', data=df)"
   ]
  },
  {
   "cell_type": "code",
   "execution_count": 15,
   "id": "a601ba29",
   "metadata": {
    "execution": {
     "iopub.execute_input": "2022-07-27T15:48:54.650398Z",
     "iopub.status.busy": "2022-07-27T15:48:54.649962Z",
     "iopub.status.idle": "2022-07-27T15:48:54.656949Z",
     "shell.execute_reply": "2022-07-27T15:48:54.655749Z"
    },
    "papermill": {
     "duration": 0.040518,
     "end_time": "2022-07-27T15:48:54.659077",
     "exception": false,
     "start_time": "2022-07-27T15:48:54.618559",
     "status": "completed"
    },
    "tags": []
   },
   "outputs": [
    {
     "data": {
      "text/plain": [
       "Index(['loan_amnt', 'term', 'int_rate', 'installment', 'grade', 'sub_grade',\n",
       "       'emp_title', 'emp_length', 'home_ownership', 'annual_inc',\n",
       "       'verification_status', 'issue_d', 'loan_status', 'purpose', 'title',\n",
       "       'dti', 'earliest_cr_line', 'open_acc', 'pub_rec', 'revol_bal',\n",
       "       'revol_util', 'total_acc', 'initial_list_status', 'application_type',\n",
       "       'mort_acc', 'pub_rec_bankruptcies', 'address'],\n",
       "      dtype='object')"
      ]
     },
     "execution_count": 15,
     "metadata": {},
     "output_type": "execute_result"
    }
   ],
   "source": [
    "df.columns"
   ]
  },
  {
   "cell_type": "code",
   "execution_count": 16,
   "id": "96841317",
   "metadata": {
    "execution": {
     "iopub.execute_input": "2022-07-27T15:48:54.721409Z",
     "iopub.status.busy": "2022-07-27T15:48:54.720755Z",
     "iopub.status.idle": "2022-07-27T15:48:55.114262Z",
     "shell.execute_reply": "2022-07-27T15:48:55.113095Z"
    },
    "papermill": {
     "duration": 0.427973,
     "end_time": "2022-07-27T15:48:55.117235",
     "exception": false,
     "start_time": "2022-07-27T15:48:54.689262",
     "status": "completed"
    },
    "tags": []
   },
   "outputs": [
    {
     "data": {
      "text/plain": [
       "<AxesSubplot:xlabel='loan_status', ylabel='loan_amnt'>"
      ]
     },
     "execution_count": 16,
     "metadata": {},
     "output_type": "execute_result"
    },
    {
     "data": {
      "image/png": "[encoded data removed]",
      "text/plain": [
       "<Figure size 792x576 with 1 Axes>"
      ]
     },
     "metadata": {},
     "output_type": "display_data"
    }
   ],
   "source": [
    "sns.boxplot(x= 'loan_status', y='loan_amnt', data=df)"
   ]
  },
  {
   "cell_type": "code",
   "execution_count": 17,
   "id": "5fb6d24f",
   "metadata": {
    "execution": {
     "iopub.execute_input": "2022-07-27T15:48:55.181966Z",
     "iopub.status.busy": "2022-07-27T15:48:55.181192Z",
     "iopub.status.idle": "2022-07-27T15:48:55.274402Z",
     "shell.execute_reply": "2022-07-27T15:48:55.273393Z"
    },
    "papermill": {
     "duration": 0.127542,
     "end_time": "2022-07-27T15:48:55.276792",
     "exception": false,
     "start_time": "2022-07-27T15:48:55.149250",
     "status": "completed"
    },
    "tags": []
   },
   "outputs": [
    {
     "data": {
      "text/html": [
       "<div>\n",
       "<style scoped>\n",
       "    .dataframe tbody tr th:only-of-type {\n",
       "        vertical-align: middle;\n",
       "    }\n",
       "\n",
       "    .dataframe tbody tr th {\n",
       "        vertical-align: top;\n",
       "    }\n",
       "\n",
       "    .dataframe thead th {\n",
       "        text-align: right;\n",
       "    }\n",
       "</style>\n",
       "<table border=\"1\" class=\"dataframe\">\n",
       "  <thead>\n",
       "    <tr style=\"text-align: right;\">\n",
       "      <th></th>\n",
       "      <th>count</th>\n",
       "      <th>mean</th>\n",
       "      <th>std</th>\n",
       "      <th>min</th>\n",
       "      <th>25%</th>\n",
       "      <th>50%</th>\n",
       "      <th>75%</th>\n",
       "      <th>max</th>\n",
       "    </tr>\n",
       "    <tr>\n",
       "      <th>loan_status</th>\n",
       "      <th></th>\n",
       "      <th></th>\n",
       "      <th></th>\n",
       "      <th></th>\n",
       "      <th></th>\n",
       "      <th></th>\n",
       "      <th></th>\n",
       "      <th></th>\n",
       "    </tr>\n",
       "  </thead>\n",
       "  <tbody>\n",
       "    <tr>\n",
       "      <th>Charged Off</th>\n",
       "      <td>77673.0</td>\n",
       "      <td>15126.300967</td>\n",
       "      <td>8505.090557</td>\n",
       "      <td>1000.0</td>\n",
       "      <td>8525.0</td>\n",
       "      <td>14000.0</td>\n",
       "      <td>20000.0</td>\n",
       "      <td>40000.0</td>\n",
       "    </tr>\n",
       "    <tr>\n",
       "      <th>Fully Paid</th>\n",
       "      <td>318357.0</td>\n",
       "      <td>13866.878771</td>\n",
       "      <td>8302.319699</td>\n",
       "      <td>500.0</td>\n",
       "      <td>7500.0</td>\n",
       "      <td>12000.0</td>\n",
       "      <td>19225.0</td>\n",
       "      <td>40000.0</td>\n",
       "    </tr>\n",
       "  </tbody>\n",
       "</table>\n",
       "</div>"
      ],
      "text/plain": [
       "                count          mean          std     min     25%      50%  \\\n",
       "loan_status                                                                 \n",
       "Charged Off   77673.0  15126.300967  8505.090557  1000.0  8525.0  14000.0   \n",
       "Fully Paid   318357.0  13866.878771  8302.319699   500.0  7500.0  12000.0   \n",
       "\n",
       "                 75%      max  \n",
       "loan_status                    \n",
       "Charged Off  20000.0  40000.0  \n",
       "Fully Paid   19225.0  40000.0  "
      ]
     },
     "execution_count": 17,
     "metadata": {},
     "output_type": "execute_result"
    }
   ],
   "source": [
    "df.groupby('loan_status')['loan_amnt'].describe()"
   ]
  },
  {
   "cell_type": "code",
   "execution_count": 18,
   "id": "7de4dbe0",
   "metadata": {
    "execution": {
     "iopub.execute_input": "2022-07-27T15:48:55.339992Z",
     "iopub.status.busy": "2022-07-27T15:48:55.339255Z",
     "iopub.status.idle": "2022-07-27T15:48:55.368018Z",
     "shell.execute_reply": "2022-07-27T15:48:55.366852Z"
    },
    "papermill": {
     "duration": 0.063091,
     "end_time": "2022-07-27T15:48:55.370287",
     "exception": false,
     "start_time": "2022-07-27T15:48:55.307196",
     "status": "completed"
    },
    "tags": []
   },
   "outputs": [
    {
     "data": {
      "text/plain": [
       "['A', 'B', 'C', 'D', 'E', 'F', 'G']"
      ]
     },
     "execution_count": 18,
     "metadata": {},
     "output_type": "execute_result"
    }
   ],
   "source": [
    "sorted(df['grade'].unique())"
   ]
  },
  {
   "cell_type": "code",
   "execution_count": 19,
   "id": "cbc15f15",
   "metadata": {
    "execution": {
     "iopub.execute_input": "2022-07-27T15:48:55.435232Z",
     "iopub.status.busy": "2022-07-27T15:48:55.434405Z",
     "iopub.status.idle": "2022-07-27T15:48:55.464953Z",
     "shell.execute_reply": "2022-07-27T15:48:55.463953Z"
    },
    "papermill": {
     "duration": 0.0662,
     "end_time": "2022-07-27T15:48:55.467071",
     "exception": false,
     "start_time": "2022-07-27T15:48:55.400871",
     "status": "completed"
    },
    "tags": []
   },
   "outputs": [
    {
     "data": {
      "text/plain": [
       "['A1',\n",
       " 'A2',\n",
       " 'A3',\n",
       " 'A4',\n",
       " 'A5',\n",
       " 'B1',\n",
       " 'B2',\n",
       " 'B3',\n",
       " 'B4',\n",
       " 'B5',\n",
       " 'C1',\n",
       " 'C2',\n",
       " 'C3',\n",
       " 'C4',\n",
       " 'C5',\n",
       " 'D1',\n",
       " 'D2',\n",
       " 'D3',\n",
       " 'D4',\n",
       " 'D5',\n",
       " 'E1',\n",
       " 'E2',\n",
       " 'E3',\n",
       " 'E4',\n",
       " 'E5',\n",
       " 'F1',\n",
       " 'F2',\n",
       " 'F3',\n",
       " 'F4',\n",
       " 'F5',\n",
       " 'G1',\n",
       " 'G2',\n",
       " 'G3',\n",
       " 'G4',\n",
       " 'G5']"
      ]
     },
     "execution_count": 19,
     "metadata": {},
     "output_type": "execute_result"
    }
   ],
   "source": [
    "sorted(df['sub_grade'].unique())"
   ]
  },
  {
   "cell_type": "code",
   "execution_count": 20,
   "id": "bcd3aa56",
   "metadata": {
    "execution": {
     "iopub.execute_input": "2022-07-27T15:48:55.530931Z",
     "iopub.status.busy": "2022-07-27T15:48:55.530105Z",
     "iopub.status.idle": "2022-07-27T15:48:56.204499Z",
     "shell.execute_reply": "2022-07-27T15:48:56.203349Z"
    },
    "papermill": {
     "duration": 0.709553,
     "end_time": "2022-07-27T15:48:56.207065",
     "exception": false,
     "start_time": "2022-07-27T15:48:55.497512",
     "status": "completed"
    },
    "tags": []
   },
   "outputs": [
    {
     "data": {
      "text/plain": [
       "<AxesSubplot:xlabel='grade', ylabel='count'>"
      ]
     },
     "execution_count": 20,
     "metadata": {},
     "output_type": "execute_result"
    },
    {
     "data": {
      "image/png": "[encoded data removed]",
      "text/plain": [
       "<Figure size 792x576 with 1 Axes>"
      ]
     },
     "metadata": {},
     "output_type": "display_data"
    }
   ],
   "source": [
    "sns.countplot(x= 'grade', data=df, hue='loan_status')"
   ]
  },
  {
   "cell_type": "code",
   "execution_count": 21,
   "id": "a6d4c15b",
   "metadata": {
    "execution": {
     "iopub.execute_input": "2022-07-27T15:48:56.274750Z",
     "iopub.status.busy": "2022-07-27T15:48:56.274371Z",
     "iopub.status.idle": "2022-07-27T15:48:56.380589Z",
     "shell.execute_reply": "2022-07-27T15:48:56.379464Z"
    },
    "papermill": {
     "duration": 0.143409,
     "end_time": "2022-07-27T15:48:56.382778",
     "exception": false,
     "start_time": "2022-07-27T15:48:56.239369",
     "status": "completed"
    },
    "tags": []
   },
   "outputs": [
    {
     "data": {
      "text/plain": [
       "grade  loan_status\n",
       "A      Fully Paid      60151\n",
       "       Charged Off      4036\n",
       "B      Fully Paid     101431\n",
       "       Charged Off     14587\n",
       "C      Fully Paid      83538\n",
       "       Charged Off     22449\n",
       "D      Fully Paid      45186\n",
       "       Charged Off     18338\n",
       "E      Fully Paid      19723\n",
       "       Charged Off     11765\n",
       "F      Fully Paid       6735\n",
       "       Charged Off      5037\n",
       "G      Fully Paid       1593\n",
       "       Charged Off      1461\n",
       "Name: loan_status, dtype: int64"
      ]
     },
     "execution_count": 21,
     "metadata": {},
     "output_type": "execute_result"
    }
   ],
   "source": [
    "df.groupby('grade')['loan_status'].value_counts()"
   ]
  },
  {
   "cell_type": "code",
   "execution_count": 22,
   "id": "67ee0466",
   "metadata": {
    "execution": {
     "iopub.execute_input": "2022-07-27T15:48:56.449835Z",
     "iopub.status.busy": "2022-07-27T15:48:56.448627Z",
     "iopub.status.idle": "2022-07-27T15:48:57.059409Z",
     "shell.execute_reply": "2022-07-27T15:48:57.058477Z"
    },
    "papermill": {
     "duration": 0.646265,
     "end_time": "2022-07-27T15:48:57.061477",
     "exception": false,
     "start_time": "2022-07-27T15:48:56.415212",
     "status": "completed"
    },
    "tags": []
   },
   "outputs": [
    {
     "data": {
      "text/plain": [
       "<AxesSubplot:xlabel='sub_grade', ylabel='count'>"
      ]
     },
     "execution_count": 22,
     "metadata": {},
     "output_type": "execute_result"
    },
    {
     "data": {
      "image/png": "[encoded data removed]",
      "text/plain": [
       "<Figure size 1152x504 with 1 Axes>"
      ]
     },
     "metadata": {},
     "output_type": "display_data"
    }
   ],
   "source": [
    "sns.set(rc={'figure.figsize':(16,7)})\n",
    "\n",
    "sns.countplot(x='sub_grade',data=df,palette='coolwarm', order=sorted(df['sub_grade'].unique()))"
   ]
  },
  {
   "cell_type": "code",
   "execution_count": 23,
   "id": "0c9e2664",
   "metadata": {
    "execution": {
     "iopub.execute_input": "2022-07-27T15:48:57.140607Z",
     "iopub.status.busy": "2022-07-27T15:48:57.139490Z",
     "iopub.status.idle": "2022-07-27T15:48:58.091960Z",
     "shell.execute_reply": "2022-07-27T15:48:58.091169Z"
    },
    "papermill": {
     "duration": 1.000316,
     "end_time": "2022-07-27T15:48:58.094589",
     "exception": false,
     "start_time": "2022-07-27T15:48:57.094273",
     "status": "completed"
    },
    "tags": []
   },
   "outputs": [
    {
     "data": {
      "text/plain": [
       "<AxesSubplot:xlabel='sub_grade', ylabel='count'>"
      ]
     },
     "execution_count": 23,
     "metadata": {},
     "output_type": "execute_result"
    },
    {
     "data": {
      "image/png": "[encoded data removed]",
      "text/plain": [
       "<Figure size 1152x504 with 1 Axes>"
      ]
     },
     "metadata": {},
     "output_type": "display_data"
    }
   ],
   "source": [
    "sns.countplot(x='sub_grade',data=df,palette='coolwarm',hue='loan_status', order=sorted(df['sub_grade'].unique()))"
   ]
  },
  {
   "cell_type": "code",
   "execution_count": 24,
   "id": "694d5879",
   "metadata": {
    "execution": {
     "iopub.execute_input": "2022-07-27T15:48:58.162739Z",
     "iopub.status.busy": "2022-07-27T15:48:58.161607Z",
     "iopub.status.idle": "2022-07-27T15:48:58.227231Z",
     "shell.execute_reply": "2022-07-27T15:48:58.226315Z"
    },
    "papermill": {
     "duration": 0.101901,
     "end_time": "2022-07-27T15:48:58.229452",
     "exception": false,
     "start_time": "2022-07-27T15:48:58.127551",
     "status": "completed"
    },
    "tags": []
   },
   "outputs": [],
   "source": [
    "df_f_g = df[(df['grade']=='F')| (df['grade']=='G')]\n"
   ]
  },
  {
   "cell_type": "code",
   "execution_count": 25,
   "id": "ab1722ec",
   "metadata": {
    "execution": {
     "iopub.execute_input": "2022-07-27T15:48:58.296385Z",
     "iopub.status.busy": "2022-07-27T15:48:58.295779Z",
     "iopub.status.idle": "2022-07-27T15:48:58.595948Z",
     "shell.execute_reply": "2022-07-27T15:48:58.595027Z"
    },
    "papermill": {
     "duration": 0.336436,
     "end_time": "2022-07-27T15:48:58.598209",
     "exception": false,
     "start_time": "2022-07-27T15:48:58.261773",
     "status": "completed"
    },
    "tags": []
   },
   "outputs": [
    {
     "data": {
      "text/plain": [
       "<AxesSubplot:xlabel='sub_grade', ylabel='count'>"
      ]
     },
     "execution_count": 25,
     "metadata": {},
     "output_type": "execute_result"
    },
    {
     "data": {
      "image/png": "[encoded data removed]",
      "text/plain": [
       "<Figure size 1152x504 with 1 Axes>"
      ]
     },
     "metadata": {},
     "output_type": "display_data"
    }
   ],
   "source": [
    "sns.countplot(x='sub_grade', data= df_f_g,hue='loan_status', order= sorted(df_f_g['sub_grade'].unique()))"
   ]
  },
  {
   "cell_type": "code",
   "execution_count": 26,
   "id": "220ae4e3",
   "metadata": {
    "execution": {
     "iopub.execute_input": "2022-07-27T15:48:58.665849Z",
     "iopub.status.busy": "2022-07-27T15:48:58.665270Z",
     "iopub.status.idle": "2022-07-27T15:48:58.669436Z",
     "shell.execute_reply": "2022-07-27T15:48:58.668517Z"
    },
    "papermill": {
     "duration": 0.040009,
     "end_time": "2022-07-27T15:48:58.671339",
     "exception": false,
     "start_time": "2022-07-27T15:48:58.631330",
     "status": "completed"
    },
    "tags": []
   },
   "outputs": [],
   "source": [
    "def loan(status):\n",
    "    if status== 'Fully Paid':\n",
    "        return 1\n",
    "    else:\n",
    "        return 0"
   ]
  },
  {
   "cell_type": "code",
   "execution_count": 27,
   "id": "0ac9392d",
   "metadata": {
    "execution": {
     "iopub.execute_input": "2022-07-27T15:48:58.738919Z",
     "iopub.status.busy": "2022-07-27T15:48:58.738317Z",
     "iopub.status.idle": "2022-07-27T15:48:58.875759Z",
     "shell.execute_reply": "2022-07-27T15:48:58.874785Z"
    },
    "papermill": {
     "duration": 0.17441,
     "end_time": "2022-07-27T15:48:58.878128",
     "exception": false,
     "start_time": "2022-07-27T15:48:58.703718",
     "status": "completed"
    },
    "tags": []
   },
   "outputs": [],
   "source": [
    "df['loan_repaid'] = df['loan_status'].apply(loan)"
   ]
  },
  {
   "cell_type": "code",
   "execution_count": 28,
   "id": "1ac23baf",
   "metadata": {
    "execution": {
     "iopub.execute_input": "2022-07-27T15:48:58.945742Z",
     "iopub.status.busy": "2022-07-27T15:48:58.945160Z",
     "iopub.status.idle": "2022-07-27T15:48:58.963554Z",
     "shell.execute_reply": "2022-07-27T15:48:58.962621Z"
    },
    "papermill": {
     "duration": 0.054658,
     "end_time": "2022-07-27T15:48:58.965502",
     "exception": false,
     "start_time": "2022-07-27T15:48:58.910844",
     "status": "completed"
    },
    "tags": []
   },
   "outputs": [
    {
     "data": {
      "text/html": [
       "<div>\n",
       "<style scoped>\n",
       "    .dataframe tbody tr th:only-of-type {\n",
       "        vertical-align: middle;\n",
       "    }\n",
       "\n",
       "    .dataframe tbody tr th {\n",
       "        vertical-align: top;\n",
       "    }\n",
       "\n",
       "    .dataframe thead th {\n",
       "        text-align: right;\n",
       "    }\n",
       "</style>\n",
       "<table border=\"1\" class=\"dataframe\">\n",
       "  <thead>\n",
       "    <tr style=\"text-align: right;\">\n",
       "      <th></th>\n",
       "      <th>loan_status</th>\n",
       "      <th>loan_repaid</th>\n",
       "    </tr>\n",
       "  </thead>\n",
       "  <tbody>\n",
       "    <tr>\n",
       "      <th>0</th>\n",
       "      <td>Fully Paid</td>\n",
       "      <td>1</td>\n",
       "    </tr>\n",
       "    <tr>\n",
       "      <th>1</th>\n",
       "      <td>Fully Paid</td>\n",
       "      <td>1</td>\n",
       "    </tr>\n",
       "    <tr>\n",
       "      <th>2</th>\n",
       "      <td>Fully Paid</td>\n",
       "      <td>1</td>\n",
       "    </tr>\n",
       "    <tr>\n",
       "      <th>3</th>\n",
       "      <td>Fully Paid</td>\n",
       "      <td>1</td>\n",
       "    </tr>\n",
       "    <tr>\n",
       "      <th>4</th>\n",
       "      <td>Charged Off</td>\n",
       "      <td>0</td>\n",
       "    </tr>\n",
       "    <tr>\n",
       "      <th>...</th>\n",
       "      <td>...</td>\n",
       "      <td>...</td>\n",
       "    </tr>\n",
       "    <tr>\n",
       "      <th>396025</th>\n",
       "      <td>Fully Paid</td>\n",
       "      <td>1</td>\n",
       "    </tr>\n",
       "    <tr>\n",
       "      <th>396026</th>\n",
       "      <td>Fully Paid</td>\n",
       "      <td>1</td>\n",
       "    </tr>\n",
       "    <tr>\n",
       "      <th>396027</th>\n",
       "      <td>Fully Paid</td>\n",
       "      <td>1</td>\n",
       "    </tr>\n",
       "    <tr>\n",
       "      <th>396028</th>\n",
       "      <td>Fully Paid</td>\n",
       "      <td>1</td>\n",
       "    </tr>\n",
       "    <tr>\n",
       "      <th>396029</th>\n",
       "      <td>Fully Paid</td>\n",
       "      <td>1</td>\n",
       "    </tr>\n",
       "  </tbody>\n",
       "</table>\n",
       "<p>396030 rows × 2 columns</p>\n",
       "</div>"
      ],
      "text/plain": [
       "        loan_status  loan_repaid\n",
       "0        Fully Paid            1\n",
       "1        Fully Paid            1\n",
       "2        Fully Paid            1\n",
       "3        Fully Paid            1\n",
       "4       Charged Off            0\n",
       "...             ...          ...\n",
       "396025   Fully Paid            1\n",
       "396026   Fully Paid            1\n",
       "396027   Fully Paid            1\n",
       "396028   Fully Paid            1\n",
       "396029   Fully Paid            1\n",
       "\n",
       "[396030 rows x 2 columns]"
      ]
     },
     "execution_count": 28,
     "metadata": {},
     "output_type": "execute_result"
    }
   ],
   "source": [
    "df[['loan_status','loan_repaid']]"
   ]
  },
  {
   "cell_type": "code",
   "execution_count": 29,
   "id": "5428c87d",
   "metadata": {
    "execution": {
     "iopub.execute_input": "2022-07-27T15:48:59.034088Z",
     "iopub.status.busy": "2022-07-27T15:48:59.033450Z",
     "iopub.status.idle": "2022-07-27T15:48:59.666391Z",
     "shell.execute_reply": "2022-07-27T15:48:59.664937Z"
    },
    "papermill": {
     "duration": 0.67095,
     "end_time": "2022-07-27T15:48:59.669205",
     "exception": false,
     "start_time": "2022-07-27T15:48:58.998255",
     "status": "completed"
    },
    "tags": []
   },
   "outputs": [
    {
     "data": {
      "text/plain": [
       "<AxesSubplot:>"
      ]
     },
     "execution_count": 29,
     "metadata": {},
     "output_type": "execute_result"
    },
    {
     "data": {
      "image/png": "[encoded data removed]",
      "text/plain": [
       "<Figure size 432x432 with 1 Axes>"
      ]
     },
     "metadata": {},
     "output_type": "display_data"
    }
   ],
   "source": [
    "plt.figure(figsize=(6,6))\n",
    "df.corr()['loan_repaid'].sort_values().drop('loan_repaid').plot(kind='bar')"
   ]
  },
  {
   "cell_type": "markdown",
   "id": "095f0d92",
   "metadata": {
    "papermill": {
     "duration": 0.035071,
     "end_time": "2022-07-27T15:48:59.740494",
     "exception": false,
     "start_time": "2022-07-27T15:48:59.705423",
     "status": "completed"
    },
    "tags": []
   },
   "source": [
    "# Section 2: Data PreProcessing(Data Engineering)\n",
    "\n",
    "**Section Goals: Remove or fill any missing data. Remove unnecessary or repetitive features. Convert categorical string features to dummy variables.**"
   ]
  },
  {
   "cell_type": "code",
   "execution_count": 30,
   "id": "d0bc7417",
   "metadata": {
    "execution": {
     "iopub.execute_input": "2022-07-27T15:48:59.811285Z",
     "iopub.status.busy": "2022-07-27T15:48:59.809959Z",
     "iopub.status.idle": "2022-07-27T15:48:59.816978Z",
     "shell.execute_reply": "2022-07-27T15:48:59.816013Z"
    },
    "papermill": {
     "duration": 0.045123,
     "end_time": "2022-07-27T15:48:59.819413",
     "exception": false,
     "start_time": "2022-07-27T15:48:59.774290",
     "status": "completed"
    },
    "tags": []
   },
   "outputs": [
    {
     "data": {
      "text/plain": [
       "396030"
      ]
     },
     "execution_count": 30,
     "metadata": {},
     "output_type": "execute_result"
    }
   ],
   "source": [
    "len(df)"
   ]
  },
  {
   "cell_type": "code",
   "execution_count": 31,
   "id": "fa71c19d",
   "metadata": {
    "execution": {
     "iopub.execute_input": "2022-07-27T15:48:59.891335Z",
     "iopub.status.busy": "2022-07-27T15:48:59.890457Z",
     "iopub.status.idle": "2022-07-27T15:49:00.163581Z",
     "shell.execute_reply": "2022-07-27T15:49:00.162245Z"
    },
    "papermill": {
     "duration": 0.311616,
     "end_time": "2022-07-27T15:49:00.166318",
     "exception": false,
     "start_time": "2022-07-27T15:48:59.854702",
     "status": "completed"
    },
    "tags": []
   },
   "outputs": [
    {
     "data": {
      "text/plain": [
       "loan_amnt                   0\n",
       "term                        0\n",
       "int_rate                    0\n",
       "installment                 0\n",
       "grade                       0\n",
       "sub_grade                   0\n",
       "emp_title               22927\n",
       "emp_length              18301\n",
       "home_ownership              0\n",
       "annual_inc                  0\n",
       "verification_status         0\n",
       "issue_d                     0\n",
       "loan_status                 0\n",
       "purpose                     0\n",
       "title                    1755\n",
       "dti                         0\n",
       "earliest_cr_line            0\n",
       "open_acc                    0\n",
       "pub_rec                     0\n",
       "revol_bal                   0\n",
       "revol_util                276\n",
       "total_acc                   0\n",
       "initial_list_status         0\n",
       "application_type            0\n",
       "mort_acc                37795\n",
       "pub_rec_bankruptcies      535\n",
       "address                     0\n",
       "loan_repaid                 0\n",
       "dtype: int64"
      ]
     },
     "execution_count": 31,
     "metadata": {},
     "output_type": "execute_result"
    }
   ],
   "source": [
    "df.isnull().sum()"
   ]
  },
  {
   "cell_type": "code",
   "execution_count": 32,
   "id": "25b4256f",
   "metadata": {
    "execution": {
     "iopub.execute_input": "2022-07-27T15:49:00.237122Z",
     "iopub.status.busy": "2022-07-27T15:49:00.236344Z",
     "iopub.status.idle": "2022-07-27T15:49:00.509134Z",
     "shell.execute_reply": "2022-07-27T15:49:00.508008Z"
    },
    "papermill": {
     "duration": 0.310665,
     "end_time": "2022-07-27T15:49:00.511484",
     "exception": false,
     "start_time": "2022-07-27T15:49:00.200819",
     "status": "completed"
    },
    "tags": []
   },
   "outputs": [
    {
     "data": {
      "text/plain": [
       "loan_amnt               0.000000\n",
       "term                    0.000000\n",
       "int_rate                0.000000\n",
       "installment             0.000000\n",
       "grade                   0.000000\n",
       "sub_grade               0.000000\n",
       "emp_title               5.789208\n",
       "emp_length              4.621115\n",
       "home_ownership          0.000000\n",
       "annual_inc              0.000000\n",
       "verification_status     0.000000\n",
       "issue_d                 0.000000\n",
       "loan_status             0.000000\n",
       "purpose                 0.000000\n",
       "title                   0.443148\n",
       "dti                     0.000000\n",
       "earliest_cr_line        0.000000\n",
       "open_acc                0.000000\n",
       "pub_rec                 0.000000\n",
       "revol_bal               0.000000\n",
       "revol_util              0.069692\n",
       "total_acc               0.000000\n",
       "initial_list_status     0.000000\n",
       "application_type        0.000000\n",
       "mort_acc                9.543469\n",
       "pub_rec_bankruptcies    0.135091\n",
       "address                 0.000000\n",
       "loan_repaid             0.000000\n",
       "dtype: float64"
      ]
     },
     "execution_count": 32,
     "metadata": {},
     "output_type": "execute_result"
    }
   ],
   "source": [
    "(df.isnull().sum()/len(df))*100"
   ]
  },
  {
   "cell_type": "code",
   "execution_count": 33,
   "id": "0bd79e85",
   "metadata": {
    "execution": {
     "iopub.execute_input": "2022-07-27T15:49:00.582111Z",
     "iopub.status.busy": "2022-07-27T15:49:00.581119Z",
     "iopub.status.idle": "2022-07-27T15:49:00.587178Z",
     "shell.execute_reply": "2022-07-27T15:49:00.586365Z"
    },
    "papermill": {
     "duration": 0.043929,
     "end_time": "2022-07-27T15:49:00.589182",
     "exception": false,
     "start_time": "2022-07-27T15:49:00.545253",
     "status": "completed"
    },
    "tags": []
   },
   "outputs": [
    {
     "name": "stdout",
     "output_type": "stream",
     "text": [
      "The job title supplied by the Borrower when applying for the loan.*\n"
     ]
    }
   ],
   "source": [
    "info('emp_title')"
   ]
  },
  {
   "cell_type": "code",
   "execution_count": 34,
   "id": "5b2bae39",
   "metadata": {
    "execution": {
     "iopub.execute_input": "2022-07-27T15:49:00.659663Z",
     "iopub.status.busy": "2022-07-27T15:49:00.659236Z",
     "iopub.status.idle": "2022-07-27T15:49:00.664851Z",
     "shell.execute_reply": "2022-07-27T15:49:00.663909Z"
    },
    "papermill": {
     "duration": 0.043652,
     "end_time": "2022-07-27T15:49:00.667105",
     "exception": false,
     "start_time": "2022-07-27T15:49:00.623453",
     "status": "completed"
    },
    "tags": []
   },
   "outputs": [
    {
     "name": "stdout",
     "output_type": "stream",
     "text": [
      "Employment length in years. Possible values are between 0 and 10 where 0 means less than one year and 10 means ten or more years. \n"
     ]
    }
   ],
   "source": [
    "info('emp_length')"
   ]
  },
  {
   "cell_type": "code",
   "execution_count": 35,
   "id": "8ff24e83",
   "metadata": {
    "execution": {
     "iopub.execute_input": "2022-07-27T15:49:00.739201Z",
     "iopub.status.busy": "2022-07-27T15:49:00.738347Z",
     "iopub.status.idle": "2022-07-27T15:49:00.845648Z",
     "shell.execute_reply": "2022-07-27T15:49:00.844203Z"
    },
    "papermill": {
     "duration": 0.146191,
     "end_time": "2022-07-27T15:49:00.848189",
     "exception": false,
     "start_time": "2022-07-27T15:49:00.701998",
     "status": "completed"
    },
    "tags": []
   },
   "outputs": [
    {
     "data": {
      "text/plain": [
       "173105"
      ]
     },
     "execution_count": 35,
     "metadata": {},
     "output_type": "execute_result"
    }
   ],
   "source": [
    "df['emp_title'].nunique()"
   ]
  },
  {
   "cell_type": "code",
   "execution_count": 36,
   "id": "0dcf4de9",
   "metadata": {
    "execution": {
     "iopub.execute_input": "2022-07-27T15:49:00.918064Z",
     "iopub.status.busy": "2022-07-27T15:49:00.917664Z",
     "iopub.status.idle": "2022-07-27T15:49:01.138657Z",
     "shell.execute_reply": "2022-07-27T15:49:01.137551Z"
    },
    "papermill": {
     "duration": 0.258668,
     "end_time": "2022-07-27T15:49:01.140857",
     "exception": false,
     "start_time": "2022-07-27T15:49:00.882189",
     "status": "completed"
    },
    "tags": []
   },
   "outputs": [
    {
     "data": {
      "text/plain": [
       "Teacher                    4389\n",
       "Manager                    4250\n",
       "Registered Nurse           1856\n",
       "RN                         1846\n",
       "Supervisor                 1830\n",
       "                           ... \n",
       "Postman                       1\n",
       "McCarthy & Holthus, LLC       1\n",
       "jp flooring                   1\n",
       "Histology Technologist        1\n",
       "Gracon Services, Inc          1\n",
       "Name: emp_title, Length: 173105, dtype: int64"
      ]
     },
     "execution_count": 36,
     "metadata": {},
     "output_type": "execute_result"
    }
   ],
   "source": [
    "df['emp_title'].value_counts()"
   ]
  },
  {
   "cell_type": "markdown",
   "id": "fe0e5249",
   "metadata": {
    "papermill": {
     "duration": 0.034371,
     "end_time": "2022-07-27T15:49:01.209304",
     "exception": false,
     "start_time": "2022-07-27T15:49:01.174933",
     "status": "completed"
    },
    "tags": []
   },
   "source": [
    " Realistically there are too many unique job titles to try to convert this to a dummy variable feature. Let's remove that emp_title column."
   ]
  },
  {
   "cell_type": "code",
   "execution_count": 37,
   "id": "cb31e563",
   "metadata": {
    "execution": {
     "iopub.execute_input": "2022-07-27T15:49:01.295603Z",
     "iopub.status.busy": "2022-07-27T15:49:01.295012Z",
     "iopub.status.idle": "2022-07-27T15:49:01.369930Z",
     "shell.execute_reply": "2022-07-27T15:49:01.368338Z"
    },
    "papermill": {
     "duration": 0.128146,
     "end_time": "2022-07-27T15:49:01.372701",
     "exception": false,
     "start_time": "2022-07-27T15:49:01.244555",
     "status": "completed"
    },
    "tags": []
   },
   "outputs": [],
   "source": [
    "df = df.drop('emp_title', axis=1)"
   ]
  },
  {
   "cell_type": "code",
   "execution_count": 38,
   "id": "9c746551",
   "metadata": {
    "execution": {
     "iopub.execute_input": "2022-07-27T15:49:01.446508Z",
     "iopub.status.busy": "2022-07-27T15:49:01.445809Z",
     "iopub.status.idle": "2022-07-27T15:49:01.500893Z",
     "shell.execute_reply": "2022-07-27T15:49:01.499735Z"
    },
    "papermill": {
     "duration": 0.0947,
     "end_time": "2022-07-27T15:49:01.503208",
     "exception": false,
     "start_time": "2022-07-27T15:49:01.408508",
     "status": "completed"
    },
    "tags": []
   },
   "outputs": [
    {
     "data": {
      "text/plain": [
       "['1 year',\n",
       " '10+ years',\n",
       " '2 years',\n",
       " '3 years',\n",
       " '4 years',\n",
       " '5 years',\n",
       " '6 years',\n",
       " '7 years',\n",
       " '8 years',\n",
       " '9 years',\n",
       " '< 1 year']"
      ]
     },
     "execution_count": 38,
     "metadata": {},
     "output_type": "execute_result"
    }
   ],
   "source": [
    "sorted(df['emp_length'].dropna().unique())"
   ]
  },
  {
   "cell_type": "code",
   "execution_count": 39,
   "id": "6633465b",
   "metadata": {
    "execution": {
     "iopub.execute_input": "2022-07-27T15:49:01.575349Z",
     "iopub.status.busy": "2022-07-27T15:49:01.574246Z",
     "iopub.status.idle": "2022-07-27T15:49:01.579168Z",
     "shell.execute_reply": "2022-07-27T15:49:01.578334Z"
    },
    "papermill": {
     "duration": 0.043361,
     "end_time": "2022-07-27T15:49:01.581276",
     "exception": false,
     "start_time": "2022-07-27T15:49:01.537915",
     "status": "completed"
    },
    "tags": []
   },
   "outputs": [],
   "source": [
    "order=[\n",
    "'< 1 year',\n",
    "'1 year',\n",
    " '2 years',\n",
    " '3 years',\n",
    " '4 years',\n",
    " '5 years',\n",
    " '6 years',\n",
    " '7 years',\n",
    " '8 years',\n",
    " '9 years',\n",
    " '10+ years']"
   ]
  },
  {
   "cell_type": "code",
   "execution_count": 40,
   "id": "2ad2f147",
   "metadata": {
    "execution": {
     "iopub.execute_input": "2022-07-27T15:49:01.655019Z",
     "iopub.status.busy": "2022-07-27T15:49:01.654270Z",
     "iopub.status.idle": "2022-07-27T15:49:02.090864Z",
     "shell.execute_reply": "2022-07-27T15:49:02.089844Z"
    },
    "papermill": {
     "duration": 0.475426,
     "end_time": "2022-07-27T15:49:02.093122",
     "exception": false,
     "start_time": "2022-07-27T15:49:01.617696",
     "status": "completed"
    },
    "tags": []
   },
   "outputs": [
    {
     "data": {
      "text/plain": [
       "<AxesSubplot:xlabel='emp_length', ylabel='count'>"
      ]
     },
     "execution_count": 40,
     "metadata": {},
     "output_type": "execute_result"
    },
    {
     "data": {
      "image/png": "[encoded data removed]",
      "text/plain": [
       "<Figure size 1152x504 with 1 Axes>"
      ]
     },
     "metadata": {},
     "output_type": "display_data"
    }
   ],
   "source": [
    "sns.countplot(x= 'emp_length', data=df , order = order)"
   ]
  },
  {
   "cell_type": "code",
   "execution_count": 41,
   "id": "003827e1",
   "metadata": {
    "execution": {
     "iopub.execute_input": "2022-07-27T15:49:02.167064Z",
     "iopub.status.busy": "2022-07-27T15:49:02.166384Z",
     "iopub.status.idle": "2022-07-27T15:49:02.845738Z",
     "shell.execute_reply": "2022-07-27T15:49:02.844421Z"
    },
    "papermill": {
     "duration": 0.719637,
     "end_time": "2022-07-27T15:49:02.848306",
     "exception": false,
     "start_time": "2022-07-27T15:49:02.128669",
     "status": "completed"
    },
    "tags": []
   },
   "outputs": [
    {
     "data": {
      "text/plain": [
       "<AxesSubplot:xlabel='emp_length', ylabel='count'>"
      ]
     },
     "execution_count": 41,
     "metadata": {},
     "output_type": "execute_result"
    },
    {
     "data": {
      "image/png": "[encoded data removed]",
      "text/plain": [
       "<Figure size 1152x504 with 1 Axes>"
      ]
     },
     "metadata": {},
     "output_type": "display_data"
    }
   ],
   "source": [
    "sns.countplot(x= 'emp_length', data=df , order = order,hue='loan_status')"
   ]
  },
  {
   "cell_type": "code",
   "execution_count": 42,
   "id": "4ca4bc0f",
   "metadata": {
    "execution": {
     "iopub.execute_input": "2022-07-27T15:49:02.921093Z",
     "iopub.status.busy": "2022-07-27T15:49:02.920688Z",
     "iopub.status.idle": "2022-07-27T15:49:03.041525Z",
     "shell.execute_reply": "2022-07-27T15:49:03.040248Z"
    },
    "papermill": {
     "duration": 0.160598,
     "end_time": "2022-07-27T15:49:03.044657",
     "exception": false,
     "start_time": "2022-07-27T15:49:02.884059",
     "status": "completed"
    },
    "tags": []
   },
   "outputs": [
    {
     "data": {
      "text/plain": [
       "emp_length  loan_status\n",
       "1 year      Fully Paid      20728\n",
       "            Charged Off      5154\n",
       "10+ years   Fully Paid     102826\n",
       "            Charged Off     23215\n",
       "2 years     Fully Paid      28903\n",
       "            Charged Off      6924\n",
       "3 years     Fully Paid      25483\n",
       "            Charged Off      6182\n",
       "4 years     Fully Paid      19344\n",
       "            Charged Off      4608\n",
       "5 years     Fully Paid      21403\n",
       "            Charged Off      5092\n",
       "6 years     Fully Paid      16898\n",
       "            Charged Off      3943\n",
       "7 years     Fully Paid      16764\n",
       "            Charged Off      4055\n",
       "8 years     Fully Paid      15339\n",
       "            Charged Off      3829\n",
       "9 years     Fully Paid      12244\n",
       "            Charged Off      3070\n",
       "< 1 year    Fully Paid      25162\n",
       "            Charged Off      6563\n",
       "Name: loan_status, dtype: int64"
      ]
     },
     "execution_count": 42,
     "metadata": {},
     "output_type": "execute_result"
    }
   ],
   "source": [
    "df.groupby('emp_length')['loan_status'].value_counts()"
   ]
  },
  {
   "cell_type": "code",
   "execution_count": 43,
   "id": "debc2a7c",
   "metadata": {
    "execution": {
     "iopub.execute_input": "2022-07-27T15:49:03.121804Z",
     "iopub.status.busy": "2022-07-27T15:49:03.121138Z",
     "iopub.status.idle": "2022-07-27T15:49:03.189068Z",
     "shell.execute_reply": "2022-07-27T15:49:03.188073Z"
    },
    "papermill": {
     "duration": 0.110012,
     "end_time": "2022-07-27T15:49:03.191483",
     "exception": false,
     "start_time": "2022-07-27T15:49:03.081471",
     "status": "completed"
    },
    "tags": []
   },
   "outputs": [],
   "source": [
    "emp_charged_off = df[df['loan_status']=='Charged Off'].groupby('emp_length')['loan_status'].count()"
   ]
  },
  {
   "cell_type": "code",
   "execution_count": 44,
   "id": "922ae1d2",
   "metadata": {
    "execution": {
     "iopub.execute_input": "2022-07-27T15:49:03.264686Z",
     "iopub.status.busy": "2022-07-27T15:49:03.263992Z",
     "iopub.status.idle": "2022-07-27T15:49:03.417974Z",
     "shell.execute_reply": "2022-07-27T15:49:03.416575Z"
    },
    "papermill": {
     "duration": 0.193284,
     "end_time": "2022-07-27T15:49:03.420501",
     "exception": false,
     "start_time": "2022-07-27T15:49:03.227217",
     "status": "completed"
    },
    "tags": []
   },
   "outputs": [],
   "source": [
    "emp_fully_paid = df[df['loan_status']=='Fully Paid'].groupby('emp_length')['loan_status'].count()"
   ]
  },
  {
   "cell_type": "code",
   "execution_count": 45,
   "id": "69765a02",
   "metadata": {
    "execution": {
     "iopub.execute_input": "2022-07-27T15:49:03.496058Z",
     "iopub.status.busy": "2022-07-27T15:49:03.495624Z",
     "iopub.status.idle": "2022-07-27T15:49:03.502570Z",
     "shell.execute_reply": "2022-07-27T15:49:03.501690Z"
    },
    "papermill": {
     "duration": 0.046622,
     "end_time": "2022-07-27T15:49:03.504404",
     "exception": false,
     "start_time": "2022-07-27T15:49:03.457782",
     "status": "completed"
    },
    "tags": []
   },
   "outputs": [
    {
     "data": {
      "text/plain": [
       "emp_length\n",
       "1 year        5154\n",
       "10+ years    23215\n",
       "2 years       6924\n",
       "3 years       6182\n",
       "4 years       4608\n",
       "5 years       5092\n",
       "6 years       3943\n",
       "7 years       4055\n",
       "8 years       3829\n",
       "9 years       3070\n",
       "< 1 year      6563\n",
       "Name: loan_status, dtype: int64"
      ]
     },
     "execution_count": 45,
     "metadata": {},
     "output_type": "execute_result"
    }
   ],
   "source": [
    "emp_charged_off"
   ]
  },
  {
   "cell_type": "code",
   "execution_count": 46,
   "id": "4c29f5ef",
   "metadata": {
    "execution": {
     "iopub.execute_input": "2022-07-27T15:49:03.579526Z",
     "iopub.status.busy": "2022-07-27T15:49:03.578866Z",
     "iopub.status.idle": "2022-07-27T15:49:03.585922Z",
     "shell.execute_reply": "2022-07-27T15:49:03.585018Z"
    },
    "papermill": {
     "duration": 0.047036,
     "end_time": "2022-07-27T15:49:03.587956",
     "exception": false,
     "start_time": "2022-07-27T15:49:03.540920",
     "status": "completed"
    },
    "tags": []
   },
   "outputs": [
    {
     "data": {
      "text/plain": [
       "emp_length\n",
       "1 year        20728\n",
       "10+ years    102826\n",
       "2 years       28903\n",
       "3 years       25483\n",
       "4 years       19344\n",
       "5 years       21403\n",
       "6 years       16898\n",
       "7 years       16764\n",
       "8 years       15339\n",
       "9 years       12244\n",
       "< 1 year      25162\n",
       "Name: loan_status, dtype: int64"
      ]
     },
     "execution_count": 46,
     "metadata": {},
     "output_type": "execute_result"
    }
   ],
   "source": [
    "emp_fully_paid"
   ]
  },
  {
   "cell_type": "code",
   "execution_count": 47,
   "id": "8c19fab7",
   "metadata": {
    "execution": {
     "iopub.execute_input": "2022-07-27T15:49:03.662300Z",
     "iopub.status.busy": "2022-07-27T15:49:03.661485Z",
     "iopub.status.idle": "2022-07-27T15:49:03.666890Z",
     "shell.execute_reply": "2022-07-27T15:49:03.665519Z"
    },
    "papermill": {
     "duration": 0.045436,
     "end_time": "2022-07-27T15:49:03.669245",
     "exception": false,
     "start_time": "2022-07-27T15:49:03.623809",
     "status": "completed"
    },
    "tags": []
   },
   "outputs": [],
   "source": [
    "emp_length = emp_charged_off/emp_fully_paid"
   ]
  },
  {
   "cell_type": "code",
   "execution_count": 48,
   "id": "c5c40616",
   "metadata": {
    "execution": {
     "iopub.execute_input": "2022-07-27T15:49:03.745807Z",
     "iopub.status.busy": "2022-07-27T15:49:03.745052Z",
     "iopub.status.idle": "2022-07-27T15:49:03.752294Z",
     "shell.execute_reply": "2022-07-27T15:49:03.751447Z"
    },
    "papermill": {
     "duration": 0.049285,
     "end_time": "2022-07-27T15:49:03.754519",
     "exception": false,
     "start_time": "2022-07-27T15:49:03.705234",
     "status": "completed"
    },
    "tags": []
   },
   "outputs": [
    {
     "data": {
      "text/plain": [
       "emp_length\n",
       "1 year       0.248649\n",
       "10+ years    0.225770\n",
       "2 years      0.239560\n",
       "3 years      0.242593\n",
       "4 years      0.238213\n",
       "5 years      0.237911\n",
       "6 years      0.233341\n",
       "7 years      0.241887\n",
       "8 years      0.249625\n",
       "9 years      0.250735\n",
       "< 1 year     0.260830\n",
       "Name: loan_status, dtype: float64"
      ]
     },
     "execution_count": 48,
     "metadata": {},
     "output_type": "execute_result"
    }
   ],
   "source": [
    "emp_length"
   ]
  },
  {
   "cell_type": "code",
   "execution_count": 49,
   "id": "d8bc36a6",
   "metadata": {
    "execution": {
     "iopub.execute_input": "2022-07-27T15:49:03.830688Z",
     "iopub.status.busy": "2022-07-27T15:49:03.829958Z",
     "iopub.status.idle": "2022-07-27T15:49:04.075392Z",
     "shell.execute_reply": "2022-07-27T15:49:04.074071Z"
    },
    "papermill": {
     "duration": 0.286079,
     "end_time": "2022-07-27T15:49:04.078031",
     "exception": false,
     "start_time": "2022-07-27T15:49:03.791952",
     "status": "completed"
    },
    "tags": []
   },
   "outputs": [
    {
     "data": {
      "text/plain": [
       "<AxesSubplot:xlabel='emp_length'>"
      ]
     },
     "execution_count": 49,
     "metadata": {},
     "output_type": "execute_result"
    },
    {
     "data": {
      "image/png": "[encoded data removed]",
      "text/plain": [
       "<Figure size 432x216 with 1 Axes>"
      ]
     },
     "metadata": {},
     "output_type": "display_data"
    }
   ],
   "source": [
    "plt.figure(figsize=(6,3))\n",
    "\n",
    "emp_length.plot(kind='bar')"
   ]
  },
  {
   "cell_type": "markdown",
   "id": "19ee9c8d",
   "metadata": {
    "papermill": {
     "duration": 0.037162,
     "end_time": "2022-07-27T15:49:04.227475",
     "exception": false,
     "start_time": "2022-07-27T15:49:04.190313",
     "status": "completed"
    },
    "tags": []
   },
   "source": [
    " Charge off rates are extremely similar across all employment lengths. drop the emp_length column."
   ]
  },
  {
   "cell_type": "code",
   "execution_count": 50,
   "id": "85d32c8b",
   "metadata": {
    "execution": {
     "iopub.execute_input": "2022-07-27T15:49:04.302471Z",
     "iopub.status.busy": "2022-07-27T15:49:04.301826Z",
     "iopub.status.idle": "2022-07-27T15:49:04.383982Z",
     "shell.execute_reply": "2022-07-27T15:49:04.382538Z"
    },
    "papermill": {
     "duration": 0.122825,
     "end_time": "2022-07-27T15:49:04.386702",
     "exception": false,
     "start_time": "2022-07-27T15:49:04.263877",
     "status": "completed"
    },
    "tags": []
   },
   "outputs": [],
   "source": [
    "df = df.drop('emp_length', axis=1)"
   ]
  },
  {
   "cell_type": "code",
   "execution_count": 51,
   "id": "54256fe7",
   "metadata": {
    "execution": {
     "iopub.execute_input": "2022-07-27T15:49:04.462272Z",
     "iopub.status.busy": "2022-07-27T15:49:04.461379Z",
     "iopub.status.idle": "2022-07-27T15:49:04.700586Z",
     "shell.execute_reply": "2022-07-27T15:49:04.699426Z"
    },
    "papermill": {
     "duration": 0.279759,
     "end_time": "2022-07-27T15:49:04.703092",
     "exception": false,
     "start_time": "2022-07-27T15:49:04.423333",
     "status": "completed"
    },
    "tags": []
   },
   "outputs": [
    {
     "data": {
      "text/plain": [
       "loan_amnt                   0\n",
       "term                        0\n",
       "int_rate                    0\n",
       "installment                 0\n",
       "grade                       0\n",
       "sub_grade                   0\n",
       "home_ownership              0\n",
       "annual_inc                  0\n",
       "verification_status         0\n",
       "issue_d                     0\n",
       "loan_status                 0\n",
       "purpose                     0\n",
       "title                    1755\n",
       "dti                         0\n",
       "earliest_cr_line            0\n",
       "open_acc                    0\n",
       "pub_rec                     0\n",
       "revol_bal                   0\n",
       "revol_util                276\n",
       "total_acc                   0\n",
       "initial_list_status         0\n",
       "application_type            0\n",
       "mort_acc                37795\n",
       "pub_rec_bankruptcies      535\n",
       "address                     0\n",
       "loan_repaid                 0\n",
       "dtype: int64"
      ]
     },
     "execution_count": 51,
     "metadata": {},
     "output_type": "execute_result"
    }
   ],
   "source": [
    "df.isnull().sum()"
   ]
  },
  {
   "cell_type": "code",
   "execution_count": 52,
   "id": "dd227fa6",
   "metadata": {
    "execution": {
     "iopub.execute_input": "2022-07-27T15:49:04.778298Z",
     "iopub.status.busy": "2022-07-27T15:49:04.777291Z",
     "iopub.status.idle": "2022-07-27T15:49:04.783783Z",
     "shell.execute_reply": "2022-07-27T15:49:04.782365Z"
    },
    "papermill": {
     "duration": 0.046913,
     "end_time": "2022-07-27T15:49:04.786484",
     "exception": false,
     "start_time": "2022-07-27T15:49:04.739571",
     "status": "completed"
    },
    "tags": []
   },
   "outputs": [
    {
     "name": "stdout",
     "output_type": "stream",
     "text": [
      "The loan title provided by the borrower\n",
      "A category provided by the borrower for the loan request. \n"
     ]
    }
   ],
   "source": [
    "info('title')\n",
    "info('purpose')"
   ]
  },
  {
   "cell_type": "code",
   "execution_count": 53,
   "id": "169a2700",
   "metadata": {
    "execution": {
     "iopub.execute_input": "2022-07-27T15:49:04.862299Z",
     "iopub.status.busy": "2022-07-27T15:49:04.861858Z",
     "iopub.status.idle": "2022-07-27T15:49:04.870583Z",
     "shell.execute_reply": "2022-07-27T15:49:04.869544Z"
    },
    "papermill": {
     "duration": 0.04912,
     "end_time": "2022-07-27T15:49:04.872869",
     "exception": false,
     "start_time": "2022-07-27T15:49:04.823749",
     "status": "completed"
    },
    "tags": []
   },
   "outputs": [
    {
     "data": {
      "text/plain": [
       "0                        Vacation\n",
       "1              Debt consolidation\n",
       "2         Credit card refinancing\n",
       "3         Credit card refinancing\n",
       "4           Credit Card Refinance\n",
       "                   ...           \n",
       "396025         Debt consolidation\n",
       "396026         Debt consolidation\n",
       "396027       pay off credit cards\n",
       "396028              Loanforpayoff\n",
       "396029          Toxic Debt Payoff\n",
       "Name: title, Length: 396030, dtype: object"
      ]
     },
     "execution_count": 53,
     "metadata": {},
     "output_type": "execute_result"
    }
   ],
   "source": [
    "df['title']"
   ]
  },
  {
   "cell_type": "code",
   "execution_count": 54,
   "id": "1931c545",
   "metadata": {
    "execution": {
     "iopub.execute_input": "2022-07-27T15:49:04.947124Z",
     "iopub.status.busy": "2022-07-27T15:49:04.946740Z",
     "iopub.status.idle": "2022-07-27T15:49:04.955316Z",
     "shell.execute_reply": "2022-07-27T15:49:04.954317Z"
    },
    "papermill": {
     "duration": 0.048128,
     "end_time": "2022-07-27T15:49:04.957189",
     "exception": false,
     "start_time": "2022-07-27T15:49:04.909061",
     "status": "completed"
    },
    "tags": []
   },
   "outputs": [
    {
     "data": {
      "text/plain": [
       "0                   vacation\n",
       "1         debt_consolidation\n",
       "2                credit_card\n",
       "3                credit_card\n",
       "4                credit_card\n",
       "                 ...        \n",
       "396025    debt_consolidation\n",
       "396026    debt_consolidation\n",
       "396027    debt_consolidation\n",
       "396028    debt_consolidation\n",
       "396029    debt_consolidation\n",
       "Name: purpose, Length: 396030, dtype: object"
      ]
     },
     "execution_count": 54,
     "metadata": {},
     "output_type": "execute_result"
    }
   ],
   "source": [
    "df['purpose']"
   ]
  },
  {
   "cell_type": "markdown",
   "id": "53dc90b5",
   "metadata": {
    "papermill": {
     "duration": 0.036734,
     "end_time": "2022-07-27T15:49:05.030177",
     "exception": false,
     "start_time": "2022-07-27T15:49:04.993443",
     "status": "completed"
    },
    "tags": []
   },
   "source": [
    " The title column is simply a string description of the purpose column. We can drop it"
   ]
  },
  {
   "cell_type": "code",
   "execution_count": 55,
   "id": "8a3bc7b9",
   "metadata": {
    "execution": {
     "iopub.execute_input": "2022-07-27T15:49:05.105340Z",
     "iopub.status.busy": "2022-07-27T15:49:05.104904Z",
     "iopub.status.idle": "2022-07-27T15:49:05.168103Z",
     "shell.execute_reply": "2022-07-27T15:49:05.166953Z"
    },
    "papermill": {
     "duration": 0.103429,
     "end_time": "2022-07-27T15:49:05.170930",
     "exception": false,
     "start_time": "2022-07-27T15:49:05.067501",
     "status": "completed"
    },
    "tags": []
   },
   "outputs": [],
   "source": [
    "df= df.drop('title', axis=1)"
   ]
  },
  {
   "cell_type": "code",
   "execution_count": 56,
   "id": "dda9f7ca",
   "metadata": {
    "execution": {
     "iopub.execute_input": "2022-07-27T15:49:05.246553Z",
     "iopub.status.busy": "2022-07-27T15:49:05.246095Z",
     "iopub.status.idle": "2022-07-27T15:49:05.251992Z",
     "shell.execute_reply": "2022-07-27T15:49:05.251092Z"
    },
    "papermill": {
     "duration": 0.046739,
     "end_time": "2022-07-27T15:49:05.254804",
     "exception": false,
     "start_time": "2022-07-27T15:49:05.208065",
     "status": "completed"
    },
    "tags": []
   },
   "outputs": [
    {
     "name": "stdout",
     "output_type": "stream",
     "text": [
      "Number of mortgage accounts.\n"
     ]
    }
   ],
   "source": [
    "info('mort_acc')"
   ]
  },
  {
   "cell_type": "code",
   "execution_count": 57,
   "id": "17de698b",
   "metadata": {
    "execution": {
     "iopub.execute_input": "2022-07-27T15:49:05.331164Z",
     "iopub.status.busy": "2022-07-27T15:49:05.330709Z",
     "iopub.status.idle": "2022-07-27T15:49:05.346937Z",
     "shell.execute_reply": "2022-07-27T15:49:05.346021Z"
    },
    "papermill": {
     "duration": 0.057185,
     "end_time": "2022-07-27T15:49:05.349002",
     "exception": false,
     "start_time": "2022-07-27T15:49:05.291817",
     "status": "completed"
    },
    "tags": []
   },
   "outputs": [
    {
     "data": {
      "text/plain": [
       "0.0     139777\n",
       "1.0      60416\n",
       "2.0      49948\n",
       "3.0      38049\n",
       "4.0      27887\n",
       "5.0      18194\n",
       "6.0      11069\n",
       "7.0       6052\n",
       "8.0       3121\n",
       "9.0       1656\n",
       "10.0       865\n",
       "11.0       479\n",
       "12.0       264\n",
       "13.0       146\n",
       "14.0       107\n",
       "15.0        61\n",
       "16.0        37\n",
       "17.0        22\n",
       "18.0        18\n",
       "19.0        15\n",
       "20.0        13\n",
       "24.0        10\n",
       "22.0         7\n",
       "21.0         4\n",
       "25.0         4\n",
       "27.0         3\n",
       "32.0         2\n",
       "31.0         2\n",
       "23.0         2\n",
       "26.0         2\n",
       "28.0         1\n",
       "30.0         1\n",
       "34.0         1\n",
       "Name: mort_acc, dtype: int64"
      ]
     },
     "execution_count": 57,
     "metadata": {},
     "output_type": "execute_result"
    }
   ],
   "source": [
    "df['mort_acc'].value_counts()"
   ]
  },
  {
   "cell_type": "code",
   "execution_count": 58,
   "id": "8cfbf2ef",
   "metadata": {
    "execution": {
     "iopub.execute_input": "2022-07-27T15:49:05.425643Z",
     "iopub.status.busy": "2022-07-27T15:49:05.425006Z",
     "iopub.status.idle": "2022-07-27T15:49:05.654521Z",
     "shell.execute_reply": "2022-07-27T15:49:05.653688Z"
    },
    "papermill": {
     "duration": 0.270033,
     "end_time": "2022-07-27T15:49:05.656519",
     "exception": false,
     "start_time": "2022-07-27T15:49:05.386486",
     "status": "completed"
    },
    "tags": []
   },
   "outputs": [
    {
     "data": {
      "text/plain": [
       "int_rate               -0.082583\n",
       "dti                    -0.025439\n",
       "revol_util              0.007514\n",
       "pub_rec                 0.011552\n",
       "pub_rec_bankruptcies    0.027239\n",
       "loan_repaid             0.073111\n",
       "open_acc                0.109205\n",
       "installment             0.193694\n",
       "revol_bal               0.194925\n",
       "loan_amnt               0.222315\n",
       "annual_inc              0.236320\n",
       "total_acc               0.381072\n",
       "mort_acc                1.000000\n",
       "Name: mort_acc, dtype: float64"
      ]
     },
     "execution_count": 58,
     "metadata": {},
     "output_type": "execute_result"
    }
   ],
   "source": [
    "df.corr()['mort_acc'].sort_values()"
   ]
  },
  {
   "cell_type": "markdown",
   "id": "9421b14d",
   "metadata": {
    "papermill": {
     "duration": 0.03658,
     "end_time": "2022-07-27T15:49:05.729774",
     "exception": false,
     "start_time": "2022-07-27T15:49:05.693194",
     "status": "completed"
    },
    "tags": []
   },
   "source": [
    " Looks like the total_acc feature correlates with the mort_acc"
   ]
  },
  {
   "cell_type": "code",
   "execution_count": 59,
   "id": "2e414c81",
   "metadata": {
    "execution": {
     "iopub.execute_input": "2022-07-27T15:49:05.805963Z",
     "iopub.status.busy": "2022-07-27T15:49:05.805217Z",
     "iopub.status.idle": "2022-07-27T15:49:05.821893Z",
     "shell.execute_reply": "2022-07-27T15:49:05.820379Z"
    },
    "papermill": {
     "duration": 0.057843,
     "end_time": "2022-07-27T15:49:05.824578",
     "exception": false,
     "start_time": "2022-07-27T15:49:05.766735",
     "status": "completed"
    },
    "tags": []
   },
   "outputs": [],
   "source": [
    "total_avg= df.groupby('total_acc')['mort_acc'].mean()"
   ]
  },
  {
   "cell_type": "code",
   "execution_count": 60,
   "id": "50343daa",
   "metadata": {
    "execution": {
     "iopub.execute_input": "2022-07-27T15:49:05.900019Z",
     "iopub.status.busy": "2022-07-27T15:49:05.899604Z",
     "iopub.status.idle": "2022-07-27T15:49:05.905832Z",
     "shell.execute_reply": "2022-07-27T15:49:05.905055Z"
    },
    "papermill": {
     "duration": 0.046305,
     "end_time": "2022-07-27T15:49:05.907634",
     "exception": false,
     "start_time": "2022-07-27T15:49:05.861329",
     "status": "completed"
    },
    "tags": []
   },
   "outputs": [
    {
     "data": {
      "text/plain": [
       "0.0"
      ]
     },
     "execution_count": 60,
     "metadata": {},
     "output_type": "execute_result"
    }
   ],
   "source": [
    "total_avg[2]"
   ]
  },
  {
   "cell_type": "code",
   "execution_count": 61,
   "id": "503da9ce",
   "metadata": {
    "execution": {
     "iopub.execute_input": "2022-07-27T15:49:05.983873Z",
     "iopub.status.busy": "2022-07-27T15:49:05.983213Z",
     "iopub.status.idle": "2022-07-27T15:49:05.987779Z",
     "shell.execute_reply": "2022-07-27T15:49:05.986984Z"
    },
    "papermill": {
     "duration": 0.045676,
     "end_time": "2022-07-27T15:49:05.989888",
     "exception": false,
     "start_time": "2022-07-27T15:49:05.944212",
     "status": "completed"
    },
    "tags": []
   },
   "outputs": [],
   "source": [
    "def function(mort,total):\n",
    "    if np.isnan(mort):\n",
    "        return total_avg[total]\n",
    "    else:\n",
    "        return mort"
   ]
  },
  {
   "cell_type": "code",
   "execution_count": 62,
   "id": "e52d2753",
   "metadata": {
    "execution": {
     "iopub.execute_input": "2022-07-27T15:49:06.067723Z",
     "iopub.status.busy": "2022-07-27T15:49:06.067049Z",
     "iopub.status.idle": "2022-07-27T15:49:12.156585Z",
     "shell.execute_reply": "2022-07-27T15:49:12.155262Z"
    },
    "papermill": {
     "duration": 6.131613,
     "end_time": "2022-07-27T15:49:12.159440",
     "exception": false,
     "start_time": "2022-07-27T15:49:06.027827",
     "status": "completed"
    },
    "tags": []
   },
   "outputs": [],
   "source": [
    "df['mort_acc']= df.apply(lambda x : function(x['mort_acc'], x['total_acc']),axis=1)"
   ]
  },
  {
   "cell_type": "code",
   "execution_count": 63,
   "id": "54fe8e9a",
   "metadata": {
    "execution": {
     "iopub.execute_input": "2022-07-27T15:49:12.235577Z",
     "iopub.status.busy": "2022-07-27T15:49:12.234730Z",
     "iopub.status.idle": "2022-07-27T15:49:12.450950Z",
     "shell.execute_reply": "2022-07-27T15:49:12.449900Z"
    },
    "papermill": {
     "duration": 0.256378,
     "end_time": "2022-07-27T15:49:12.453287",
     "exception": false,
     "start_time": "2022-07-27T15:49:12.196909",
     "status": "completed"
    },
    "tags": []
   },
   "outputs": [
    {
     "data": {
      "text/plain": [
       "loan_amnt                 0\n",
       "term                      0\n",
       "int_rate                  0\n",
       "installment               0\n",
       "grade                     0\n",
       "sub_grade                 0\n",
       "home_ownership            0\n",
       "annual_inc                0\n",
       "verification_status       0\n",
       "issue_d                   0\n",
       "loan_status               0\n",
       "purpose                   0\n",
       "dti                       0\n",
       "earliest_cr_line          0\n",
       "open_acc                  0\n",
       "pub_rec                   0\n",
       "revol_bal                 0\n",
       "revol_util              276\n",
       "total_acc                 0\n",
       "initial_list_status       0\n",
       "application_type          0\n",
       "mort_acc                  0\n",
       "pub_rec_bankruptcies    535\n",
       "address                   0\n",
       "loan_repaid               0\n",
       "dtype: int64"
      ]
     },
     "execution_count": 63,
     "metadata": {},
     "output_type": "execute_result"
    }
   ],
   "source": [
    "df.isnull().sum()"
   ]
  },
  {
   "cell_type": "markdown",
   "id": "6967a723",
   "metadata": {
    "papermill": {
     "duration": 0.03709,
     "end_time": "2022-07-27T15:49:12.527337",
     "exception": false,
     "start_time": "2022-07-27T15:49:12.490247",
     "status": "completed"
    },
    "tags": []
   },
   "source": [
    "revol_util and the pub_rec_bankruptcies have missing data points, but they account for less than 0.5% of the total data."
   ]
  },
  {
   "cell_type": "code",
   "execution_count": 64,
   "id": "0c37c1c8",
   "metadata": {
    "execution": {
     "iopub.execute_input": "2022-07-27T15:49:12.604193Z",
     "iopub.status.busy": "2022-07-27T15:49:12.603769Z",
     "iopub.status.idle": "2022-07-27T15:49:12.904590Z",
     "shell.execute_reply": "2022-07-27T15:49:12.903139Z"
    },
    "papermill": {
     "duration": 0.342,
     "end_time": "2022-07-27T15:49:12.907114",
     "exception": false,
     "start_time": "2022-07-27T15:49:12.565114",
     "status": "completed"
    },
    "tags": []
   },
   "outputs": [],
   "source": [
    "df = df.dropna()"
   ]
  },
  {
   "cell_type": "code",
   "execution_count": 65,
   "id": "5ae37d80",
   "metadata": {
    "execution": {
     "iopub.execute_input": "2022-07-27T15:49:12.991891Z",
     "iopub.status.busy": "2022-07-27T15:49:12.990611Z",
     "iopub.status.idle": "2022-07-27T15:49:13.228828Z",
     "shell.execute_reply": "2022-07-27T15:49:13.227587Z"
    },
    "papermill": {
     "duration": 0.286248,
     "end_time": "2022-07-27T15:49:13.231315",
     "exception": false,
     "start_time": "2022-07-27T15:49:12.945067",
     "status": "completed"
    },
    "tags": []
   },
   "outputs": [
    {
     "data": {
      "text/plain": [
       "loan_amnt               0\n",
       "term                    0\n",
       "int_rate                0\n",
       "installment             0\n",
       "grade                   0\n",
       "sub_grade               0\n",
       "home_ownership          0\n",
       "annual_inc              0\n",
       "verification_status     0\n",
       "issue_d                 0\n",
       "loan_status             0\n",
       "purpose                 0\n",
       "dti                     0\n",
       "earliest_cr_line        0\n",
       "open_acc                0\n",
       "pub_rec                 0\n",
       "revol_bal               0\n",
       "revol_util              0\n",
       "total_acc               0\n",
       "initial_list_status     0\n",
       "application_type        0\n",
       "mort_acc                0\n",
       "pub_rec_bankruptcies    0\n",
       "address                 0\n",
       "loan_repaid             0\n",
       "dtype: int64"
      ]
     },
     "execution_count": 65,
     "metadata": {},
     "output_type": "execute_result"
    }
   ],
   "source": [
    "df.isnull().sum()"
   ]
  },
  {
   "cell_type": "markdown",
   "id": "4253e598",
   "metadata": {
    "papermill": {
     "duration": 0.036699,
     "end_time": "2022-07-27T15:49:13.305098",
     "exception": false,
     "start_time": "2022-07-27T15:49:13.268399",
     "status": "completed"
    },
    "tags": []
   },
   "source": [
    "## Categorical Variables and Dummy Variables\n"
   ]
  },
  {
   "cell_type": "code",
   "execution_count": 66,
   "id": "09037016",
   "metadata": {
    "execution": {
     "iopub.execute_input": "2022-07-27T15:49:13.381635Z",
     "iopub.status.busy": "2022-07-27T15:49:13.380453Z",
     "iopub.status.idle": "2022-07-27T15:49:13.448595Z",
     "shell.execute_reply": "2022-07-27T15:49:13.447586Z"
    },
    "papermill": {
     "duration": 0.108594,
     "end_time": "2022-07-27T15:49:13.450725",
     "exception": false,
     "start_time": "2022-07-27T15:49:13.342131",
     "status": "completed"
    },
    "tags": []
   },
   "outputs": [
    {
     "data": {
      "text/plain": [
       "Index(['term', 'grade', 'sub_grade', 'home_ownership', 'verification_status',\n",
       "       'issue_d', 'loan_status', 'purpose', 'earliest_cr_line',\n",
       "       'initial_list_status', 'application_type', 'address'],\n",
       "      dtype='object')"
      ]
     },
     "execution_count": 66,
     "metadata": {},
     "output_type": "execute_result"
    }
   ],
   "source": [
    "df.select_dtypes(['object']).columns"
   ]
  },
  {
   "cell_type": "code",
   "execution_count": 67,
   "id": "ba642974",
   "metadata": {
    "execution": {
     "iopub.execute_input": "2022-07-27T15:49:13.527419Z",
     "iopub.status.busy": "2022-07-27T15:49:13.526310Z",
     "iopub.status.idle": "2022-07-27T15:49:13.542733Z",
     "shell.execute_reply": "2022-07-27T15:49:13.541412Z"
    },
    "papermill": {
     "duration": 0.057276,
     "end_time": "2022-07-27T15:49:13.545268",
     "exception": false,
     "start_time": "2022-07-27T15:49:13.487992",
     "status": "completed"
    },
    "tags": []
   },
   "outputs": [
    {
     "data": {
      "text/plain": [
       "' 60 months'"
      ]
     },
     "execution_count": 67,
     "metadata": {},
     "output_type": "execute_result"
    }
   ],
   "source": [
    "df['term'][4]"
   ]
  },
  {
   "cell_type": "code",
   "execution_count": 68,
   "id": "0c226bb1",
   "metadata": {
    "execution": {
     "iopub.execute_input": "2022-07-27T15:49:13.622796Z",
     "iopub.status.busy": "2022-07-27T15:49:13.621539Z",
     "iopub.status.idle": "2022-07-27T15:49:13.628366Z",
     "shell.execute_reply": "2022-07-27T15:49:13.627216Z"
    },
    "papermill": {
     "duration": 0.047596,
     "end_time": "2022-07-27T15:49:13.630759",
     "exception": false,
     "start_time": "2022-07-27T15:49:13.583163",
     "status": "completed"
    },
    "tags": []
   },
   "outputs": [],
   "source": [
    "def term(months):\n",
    "    if months == ' 36 months':\n",
    "        return 36\n",
    "    else:\n",
    "        return 60\n",
    "    "
   ]
  },
  {
   "cell_type": "code",
   "execution_count": 69,
   "id": "eade709d",
   "metadata": {
    "execution": {
     "iopub.execute_input": "2022-07-27T15:49:13.709319Z",
     "iopub.status.busy": "2022-07-27T15:49:13.708389Z",
     "iopub.status.idle": "2022-07-27T15:49:13.926534Z",
     "shell.execute_reply": "2022-07-27T15:49:13.925242Z"
    },
    "papermill": {
     "duration": 0.259992,
     "end_time": "2022-07-27T15:49:13.929213",
     "exception": false,
     "start_time": "2022-07-27T15:49:13.669221",
     "status": "completed"
    },
    "tags": []
   },
   "outputs": [],
   "source": [
    "df['term'] = df['term'].apply(term)"
   ]
  },
  {
   "cell_type": "code",
   "execution_count": 70,
   "id": "2623f357",
   "metadata": {
    "execution": {
     "iopub.execute_input": "2022-07-27T15:49:14.006304Z",
     "iopub.status.busy": "2022-07-27T15:49:14.004997Z",
     "iopub.status.idle": "2022-07-27T15:49:14.012799Z",
     "shell.execute_reply": "2022-07-27T15:49:14.011962Z"
    },
    "papermill": {
     "duration": 0.048313,
     "end_time": "2022-07-27T15:49:14.014742",
     "exception": false,
     "start_time": "2022-07-27T15:49:13.966429",
     "status": "completed"
    },
    "tags": []
   },
   "outputs": [
    {
     "data": {
      "text/plain": [
       "0         36\n",
       "1         36\n",
       "2         36\n",
       "3         36\n",
       "4         60\n",
       "          ..\n",
       "396025    60\n",
       "396026    36\n",
       "396027    36\n",
       "396028    60\n",
       "396029    36\n",
       "Name: term, Length: 395219, dtype: int64"
      ]
     },
     "execution_count": 70,
     "metadata": {},
     "output_type": "execute_result"
    }
   ],
   "source": [
    "df['term']"
   ]
  },
  {
   "cell_type": "code",
   "execution_count": 71,
   "id": "b54ad891",
   "metadata": {
    "execution": {
     "iopub.execute_input": "2022-07-27T15:49:14.092113Z",
     "iopub.status.busy": "2022-07-27T15:49:14.091378Z",
     "iopub.status.idle": "2022-07-27T15:49:14.156940Z",
     "shell.execute_reply": "2022-07-27T15:49:14.155629Z"
    },
    "papermill": {
     "duration": 0.10674,
     "end_time": "2022-07-27T15:49:14.159502",
     "exception": false,
     "start_time": "2022-07-27T15:49:14.052762",
     "status": "completed"
    },
    "tags": []
   },
   "outputs": [
    {
     "data": {
      "text/plain": [
       "Index(['grade', 'sub_grade', 'home_ownership', 'verification_status',\n",
       "       'issue_d', 'loan_status', 'purpose', 'earliest_cr_line',\n",
       "       'initial_list_status', 'application_type', 'address'],\n",
       "      dtype='object')"
      ]
     },
     "execution_count": 71,
     "metadata": {},
     "output_type": "execute_result"
    }
   ],
   "source": [
    "df.select_dtypes(['object']).columns"
   ]
  },
  {
   "cell_type": "code",
   "execution_count": 72,
   "id": "58984e31",
   "metadata": {
    "execution": {
     "iopub.execute_input": "2022-07-27T15:49:14.239200Z",
     "iopub.status.busy": "2022-07-27T15:49:14.238507Z",
     "iopub.status.idle": "2022-07-27T15:49:14.308041Z",
     "shell.execute_reply": "2022-07-27T15:49:14.306917Z"
    },
    "papermill": {
     "duration": 0.111067,
     "end_time": "2022-07-27T15:49:14.310624",
     "exception": false,
     "start_time": "2022-07-27T15:49:14.199557",
     "status": "completed"
    },
    "tags": []
   },
   "outputs": [],
   "source": [
    "df = df.drop('grade', axis=1)"
   ]
  },
  {
   "cell_type": "markdown",
   "id": "97ab5cc5",
   "metadata": {
    "papermill": {
     "duration": 0.037001,
     "end_time": "2022-07-27T15:49:14.384795",
     "exception": false,
     "start_time": "2022-07-27T15:49:14.347794",
     "status": "completed"
    },
    "tags": []
   },
   "source": [
    "We already know grade is part of sub_grade, so just drop the grade feature."
   ]
  },
  {
   "cell_type": "code",
   "execution_count": 73,
   "id": "d28c0a70",
   "metadata": {
    "execution": {
     "iopub.execute_input": "2022-07-27T15:49:14.460889Z",
     "iopub.status.busy": "2022-07-27T15:49:14.460483Z",
     "iopub.status.idle": "2022-07-27T15:49:14.561254Z",
     "shell.execute_reply": "2022-07-27T15:49:14.560073Z"
    },
    "papermill": {
     "duration": 0.141809,
     "end_time": "2022-07-27T15:49:14.563784",
     "exception": false,
     "start_time": "2022-07-27T15:49:14.421975",
     "status": "completed"
    },
    "tags": []
   },
   "outputs": [],
   "source": [
    "subgrade_dummy = pd.get_dummies(df['sub_grade'], drop_first=True)"
   ]
  },
  {
   "cell_type": "code",
   "execution_count": 74,
   "id": "3a77f355",
   "metadata": {
    "execution": {
     "iopub.execute_input": "2022-07-27T15:49:14.640054Z",
     "iopub.status.busy": "2022-07-27T15:49:14.639633Z",
     "iopub.status.idle": "2022-07-27T15:49:14.788714Z",
     "shell.execute_reply": "2022-07-27T15:49:14.787391Z"
    },
    "papermill": {
     "duration": 0.190473,
     "end_time": "2022-07-27T15:49:14.791401",
     "exception": false,
     "start_time": "2022-07-27T15:49:14.600928",
     "status": "completed"
    },
    "tags": []
   },
   "outputs": [],
   "source": [
    "df = pd.concat([df.drop('sub_grade',axis=1),subgrade_dummy], axis=1)"
   ]
  },
  {
   "cell_type": "code",
   "execution_count": 75,
   "id": "85637e47",
   "metadata": {
    "execution": {
     "iopub.execute_input": "2022-07-27T15:49:14.868996Z",
     "iopub.status.busy": "2022-07-27T15:49:14.868573Z",
     "iopub.status.idle": "2022-07-27T15:49:14.890717Z",
     "shell.execute_reply": "2022-07-27T15:49:14.889573Z"
    },
    "papermill": {
     "duration": 0.064228,
     "end_time": "2022-07-27T15:49:14.893079",
     "exception": false,
     "start_time": "2022-07-27T15:49:14.828851",
     "status": "completed"
    },
    "tags": []
   },
   "outputs": [
    {
     "data": {
      "text/html": [
       "<div>\n",
       "<style scoped>\n",
       "    .dataframe tbody tr th:only-of-type {\n",
       "        vertical-align: middle;\n",
       "    }\n",
       "\n",
       "    .dataframe tbody tr th {\n",
       "        vertical-align: top;\n",
       "    }\n",
       "\n",
       "    .dataframe thead th {\n",
       "        text-align: right;\n",
       "    }\n",
       "</style>\n",
       "<table border=\"1\" class=\"dataframe\">\n",
       "  <thead>\n",
       "    <tr style=\"text-align: right;\">\n",
       "      <th></th>\n",
       "      <th>loan_amnt</th>\n",
       "      <th>term</th>\n",
       "      <th>int_rate</th>\n",
       "      <th>installment</th>\n",
       "      <th>home_ownership</th>\n",
       "      <th>annual_inc</th>\n",
       "      <th>verification_status</th>\n",
       "      <th>issue_d</th>\n",
       "      <th>loan_status</th>\n",
       "      <th>purpose</th>\n",
       "      <th>...</th>\n",
       "      <th>F1</th>\n",
       "      <th>F2</th>\n",
       "      <th>F3</th>\n",
       "      <th>F4</th>\n",
       "      <th>F5</th>\n",
       "      <th>G1</th>\n",
       "      <th>G2</th>\n",
       "      <th>G3</th>\n",
       "      <th>G4</th>\n",
       "      <th>G5</th>\n",
       "    </tr>\n",
       "  </thead>\n",
       "  <tbody>\n",
       "    <tr>\n",
       "      <th>0</th>\n",
       "      <td>10000.0</td>\n",
       "      <td>36</td>\n",
       "      <td>11.44</td>\n",
       "      <td>329.48</td>\n",
       "      <td>RENT</td>\n",
       "      <td>117000.0</td>\n",
       "      <td>Not Verified</td>\n",
       "      <td>Jan-2015</td>\n",
       "      <td>Fully Paid</td>\n",
       "      <td>vacation</td>\n",
       "      <td>...</td>\n",
       "      <td>0</td>\n",
       "      <td>0</td>\n",
       "      <td>0</td>\n",
       "      <td>0</td>\n",
       "      <td>0</td>\n",
       "      <td>0</td>\n",
       "      <td>0</td>\n",
       "      <td>0</td>\n",
       "      <td>0</td>\n",
       "      <td>0</td>\n",
       "    </tr>\n",
       "    <tr>\n",
       "      <th>1</th>\n",
       "      <td>8000.0</td>\n",
       "      <td>36</td>\n",
       "      <td>11.99</td>\n",
       "      <td>265.68</td>\n",
       "      <td>MORTGAGE</td>\n",
       "      <td>65000.0</td>\n",
       "      <td>Not Verified</td>\n",
       "      <td>Jan-2015</td>\n",
       "      <td>Fully Paid</td>\n",
       "      <td>debt_consolidation</td>\n",
       "      <td>...</td>\n",
       "      <td>0</td>\n",
       "      <td>0</td>\n",
       "      <td>0</td>\n",
       "      <td>0</td>\n",
       "      <td>0</td>\n",
       "      <td>0</td>\n",
       "      <td>0</td>\n",
       "      <td>0</td>\n",
       "      <td>0</td>\n",
       "      <td>0</td>\n",
       "    </tr>\n",
       "    <tr>\n",
       "      <th>2</th>\n",
       "      <td>15600.0</td>\n",
       "      <td>36</td>\n",
       "      <td>10.49</td>\n",
       "      <td>506.97</td>\n",
       "      <td>RENT</td>\n",
       "      <td>43057.0</td>\n",
       "      <td>Source Verified</td>\n",
       "      <td>Jan-2015</td>\n",
       "      <td>Fully Paid</td>\n",
       "      <td>credit_card</td>\n",
       "      <td>...</td>\n",
       "      <td>0</td>\n",
       "      <td>0</td>\n",
       "      <td>0</td>\n",
       "      <td>0</td>\n",
       "      <td>0</td>\n",
       "      <td>0</td>\n",
       "      <td>0</td>\n",
       "      <td>0</td>\n",
       "      <td>0</td>\n",
       "      <td>0</td>\n",
       "    </tr>\n",
       "    <tr>\n",
       "      <th>3</th>\n",
       "      <td>7200.0</td>\n",
       "      <td>36</td>\n",
       "      <td>6.49</td>\n",
       "      <td>220.65</td>\n",
       "      <td>RENT</td>\n",
       "      <td>54000.0</td>\n",
       "      <td>Not Verified</td>\n",
       "      <td>Nov-2014</td>\n",
       "      <td>Fully Paid</td>\n",
       "      <td>credit_card</td>\n",
       "      <td>...</td>\n",
       "      <td>0</td>\n",
       "      <td>0</td>\n",
       "      <td>0</td>\n",
       "      <td>0</td>\n",
       "      <td>0</td>\n",
       "      <td>0</td>\n",
       "      <td>0</td>\n",
       "      <td>0</td>\n",
       "      <td>0</td>\n",
       "      <td>0</td>\n",
       "    </tr>\n",
       "    <tr>\n",
       "      <th>4</th>\n",
       "      <td>24375.0</td>\n",
       "      <td>60</td>\n",
       "      <td>17.27</td>\n",
       "      <td>609.33</td>\n",
       "      <td>MORTGAGE</td>\n",
       "      <td>55000.0</td>\n",
       "      <td>Verified</td>\n",
       "      <td>Apr-2013</td>\n",
       "      <td>Charged Off</td>\n",
       "      <td>credit_card</td>\n",
       "      <td>...</td>\n",
       "      <td>0</td>\n",
       "      <td>0</td>\n",
       "      <td>0</td>\n",
       "      <td>0</td>\n",
       "      <td>0</td>\n",
       "      <td>0</td>\n",
       "      <td>0</td>\n",
       "      <td>0</td>\n",
       "      <td>0</td>\n",
       "      <td>0</td>\n",
       "    </tr>\n",
       "  </tbody>\n",
       "</table>\n",
       "<p>5 rows × 57 columns</p>\n",
       "</div>"
      ],
      "text/plain": [
       "   loan_amnt  term  int_rate  installment home_ownership  annual_inc  \\\n",
       "0    10000.0    36     11.44       329.48           RENT    117000.0   \n",
       "1     8000.0    36     11.99       265.68       MORTGAGE     65000.0   \n",
       "2    15600.0    36     10.49       506.97           RENT     43057.0   \n",
       "3     7200.0    36      6.49       220.65           RENT     54000.0   \n",
       "4    24375.0    60     17.27       609.33       MORTGAGE     55000.0   \n",
       "\n",
       "  verification_status   issue_d  loan_status             purpose  ...  F1 F2  \\\n",
       "0        Not Verified  Jan-2015   Fully Paid            vacation  ...   0  0   \n",
       "1        Not Verified  Jan-2015   Fully Paid  debt_consolidation  ...   0  0   \n",
       "2     Source Verified  Jan-2015   Fully Paid         credit_card  ...   0  0   \n",
       "3        Not Verified  Nov-2014   Fully Paid         credit_card  ...   0  0   \n",
       "4            Verified  Apr-2013  Charged Off         credit_card  ...   0  0   \n",
       "\n",
       "   F3  F4  F5  G1  G2 G3 G4  G5  \n",
       "0   0   0   0   0   0  0  0   0  \n",
       "1   0   0   0   0   0  0  0   0  \n",
       "2   0   0   0   0   0  0  0   0  \n",
       "3   0   0   0   0   0  0  0   0  \n",
       "4   0   0   0   0   0  0  0   0  \n",
       "\n",
       "[5 rows x 57 columns]"
      ]
     },
     "execution_count": 75,
     "metadata": {},
     "output_type": "execute_result"
    }
   ],
   "source": [
    "df.head()"
   ]
  },
  {
   "cell_type": "code",
   "execution_count": 76,
   "id": "26db46ac",
   "metadata": {
    "execution": {
     "iopub.execute_input": "2022-07-27T15:49:14.970078Z",
     "iopub.status.busy": "2022-07-27T15:49:14.969675Z",
     "iopub.status.idle": "2022-07-27T15:49:15.104670Z",
     "shell.execute_reply": "2022-07-27T15:49:15.103792Z"
    },
    "papermill": {
     "duration": 0.175932,
     "end_time": "2022-07-27T15:49:15.106681",
     "exception": false,
     "start_time": "2022-07-27T15:49:14.930749",
     "status": "completed"
    },
    "tags": []
   },
   "outputs": [
    {
     "data": {
      "text/plain": [
       "Index(['home_ownership', 'verification_status', 'issue_d', 'loan_status',\n",
       "       'purpose', 'earliest_cr_line', 'initial_list_status',\n",
       "       'application_type', 'address'],\n",
       "      dtype='object')"
      ]
     },
     "execution_count": 76,
     "metadata": {},
     "output_type": "execute_result"
    }
   ],
   "source": [
    "df.select_dtypes(['object']).columns"
   ]
  },
  {
   "cell_type": "code",
   "execution_count": 77,
   "id": "78c04002",
   "metadata": {
    "execution": {
     "iopub.execute_input": "2022-07-27T15:49:15.184401Z",
     "iopub.status.busy": "2022-07-27T15:49:15.183449Z",
     "iopub.status.idle": "2022-07-27T15:49:15.379389Z",
     "shell.execute_reply": "2022-07-27T15:49:15.378130Z"
    },
    "papermill": {
     "duration": 0.237653,
     "end_time": "2022-07-27T15:49:15.381846",
     "exception": false,
     "start_time": "2022-07-27T15:49:15.144193",
     "status": "completed"
    },
    "tags": []
   },
   "outputs": [],
   "source": [
    "dummies = pd.get_dummies(df[['verification_status', 'application_type','initial_list_status','purpose']],drop_first=True)"
   ]
  },
  {
   "cell_type": "code",
   "execution_count": 78,
   "id": "404bcb61",
   "metadata": {
    "execution": {
     "iopub.execute_input": "2022-07-27T15:49:15.462871Z",
     "iopub.status.busy": "2022-07-27T15:49:15.462133Z",
     "iopub.status.idle": "2022-07-27T15:49:15.584972Z",
     "shell.execute_reply": "2022-07-27T15:49:15.583798Z"
    },
    "papermill": {
     "duration": 0.166721,
     "end_time": "2022-07-27T15:49:15.587679",
     "exception": false,
     "start_time": "2022-07-27T15:49:15.420958",
     "status": "completed"
    },
    "tags": []
   },
   "outputs": [],
   "source": [
    "df = pd.concat([df.drop( ['verification_status', 'application_type','initial_list_status','purpose'],axis=1), dummies],axis=1)"
   ]
  },
  {
   "cell_type": "code",
   "execution_count": 79,
   "id": "c2196d7c",
   "metadata": {
    "execution": {
     "iopub.execute_input": "2022-07-27T15:49:15.667501Z",
     "iopub.status.busy": "2022-07-27T15:49:15.667045Z",
     "iopub.status.idle": "2022-07-27T15:49:15.690567Z",
     "shell.execute_reply": "2022-07-27T15:49:15.689749Z"
    },
    "papermill": {
     "duration": 0.065388,
     "end_time": "2022-07-27T15:49:15.692610",
     "exception": false,
     "start_time": "2022-07-27T15:49:15.627222",
     "status": "completed"
    },
    "tags": []
   },
   "outputs": [
    {
     "data": {
      "text/html": [
       "<div>\n",
       "<style scoped>\n",
       "    .dataframe tbody tr th:only-of-type {\n",
       "        vertical-align: middle;\n",
       "    }\n",
       "\n",
       "    .dataframe tbody tr th {\n",
       "        vertical-align: top;\n",
       "    }\n",
       "\n",
       "    .dataframe thead th {\n",
       "        text-align: right;\n",
       "    }\n",
       "</style>\n",
       "<table border=\"1\" class=\"dataframe\">\n",
       "  <thead>\n",
       "    <tr style=\"text-align: right;\">\n",
       "      <th></th>\n",
       "      <th>loan_amnt</th>\n",
       "      <th>term</th>\n",
       "      <th>int_rate</th>\n",
       "      <th>installment</th>\n",
       "      <th>home_ownership</th>\n",
       "      <th>annual_inc</th>\n",
       "      <th>issue_d</th>\n",
       "      <th>loan_status</th>\n",
       "      <th>dti</th>\n",
       "      <th>earliest_cr_line</th>\n",
       "      <th>...</th>\n",
       "      <th>purpose_home_improvement</th>\n",
       "      <th>purpose_house</th>\n",
       "      <th>purpose_major_purchase</th>\n",
       "      <th>purpose_medical</th>\n",
       "      <th>purpose_moving</th>\n",
       "      <th>purpose_other</th>\n",
       "      <th>purpose_renewable_energy</th>\n",
       "      <th>purpose_small_business</th>\n",
       "      <th>purpose_vacation</th>\n",
       "      <th>purpose_wedding</th>\n",
       "    </tr>\n",
       "  </thead>\n",
       "  <tbody>\n",
       "    <tr>\n",
       "      <th>0</th>\n",
       "      <td>10000.0</td>\n",
       "      <td>36</td>\n",
       "      <td>11.44</td>\n",
       "      <td>329.48</td>\n",
       "      <td>RENT</td>\n",
       "      <td>117000.0</td>\n",
       "      <td>Jan-2015</td>\n",
       "      <td>Fully Paid</td>\n",
       "      <td>26.24</td>\n",
       "      <td>Jun-1990</td>\n",
       "      <td>...</td>\n",
       "      <td>0</td>\n",
       "      <td>0</td>\n",
       "      <td>0</td>\n",
       "      <td>0</td>\n",
       "      <td>0</td>\n",
       "      <td>0</td>\n",
       "      <td>0</td>\n",
       "      <td>0</td>\n",
       "      <td>1</td>\n",
       "      <td>0</td>\n",
       "    </tr>\n",
       "    <tr>\n",
       "      <th>1</th>\n",
       "      <td>8000.0</td>\n",
       "      <td>36</td>\n",
       "      <td>11.99</td>\n",
       "      <td>265.68</td>\n",
       "      <td>MORTGAGE</td>\n",
       "      <td>65000.0</td>\n",
       "      <td>Jan-2015</td>\n",
       "      <td>Fully Paid</td>\n",
       "      <td>22.05</td>\n",
       "      <td>Jul-2004</td>\n",
       "      <td>...</td>\n",
       "      <td>0</td>\n",
       "      <td>0</td>\n",
       "      <td>0</td>\n",
       "      <td>0</td>\n",
       "      <td>0</td>\n",
       "      <td>0</td>\n",
       "      <td>0</td>\n",
       "      <td>0</td>\n",
       "      <td>0</td>\n",
       "      <td>0</td>\n",
       "    </tr>\n",
       "    <tr>\n",
       "      <th>2</th>\n",
       "      <td>15600.0</td>\n",
       "      <td>36</td>\n",
       "      <td>10.49</td>\n",
       "      <td>506.97</td>\n",
       "      <td>RENT</td>\n",
       "      <td>43057.0</td>\n",
       "      <td>Jan-2015</td>\n",
       "      <td>Fully Paid</td>\n",
       "      <td>12.79</td>\n",
       "      <td>Aug-2007</td>\n",
       "      <td>...</td>\n",
       "      <td>0</td>\n",
       "      <td>0</td>\n",
       "      <td>0</td>\n",
       "      <td>0</td>\n",
       "      <td>0</td>\n",
       "      <td>0</td>\n",
       "      <td>0</td>\n",
       "      <td>0</td>\n",
       "      <td>0</td>\n",
       "      <td>0</td>\n",
       "    </tr>\n",
       "    <tr>\n",
       "      <th>3</th>\n",
       "      <td>7200.0</td>\n",
       "      <td>36</td>\n",
       "      <td>6.49</td>\n",
       "      <td>220.65</td>\n",
       "      <td>RENT</td>\n",
       "      <td>54000.0</td>\n",
       "      <td>Nov-2014</td>\n",
       "      <td>Fully Paid</td>\n",
       "      <td>2.60</td>\n",
       "      <td>Sep-2006</td>\n",
       "      <td>...</td>\n",
       "      <td>0</td>\n",
       "      <td>0</td>\n",
       "      <td>0</td>\n",
       "      <td>0</td>\n",
       "      <td>0</td>\n",
       "      <td>0</td>\n",
       "      <td>0</td>\n",
       "      <td>0</td>\n",
       "      <td>0</td>\n",
       "      <td>0</td>\n",
       "    </tr>\n",
       "    <tr>\n",
       "      <th>4</th>\n",
       "      <td>24375.0</td>\n",
       "      <td>60</td>\n",
       "      <td>17.27</td>\n",
       "      <td>609.33</td>\n",
       "      <td>MORTGAGE</td>\n",
       "      <td>55000.0</td>\n",
       "      <td>Apr-2013</td>\n",
       "      <td>Charged Off</td>\n",
       "      <td>33.95</td>\n",
       "      <td>Mar-1999</td>\n",
       "      <td>...</td>\n",
       "      <td>0</td>\n",
       "      <td>0</td>\n",
       "      <td>0</td>\n",
       "      <td>0</td>\n",
       "      <td>0</td>\n",
       "      <td>0</td>\n",
       "      <td>0</td>\n",
       "      <td>0</td>\n",
       "      <td>0</td>\n",
       "      <td>0</td>\n",
       "    </tr>\n",
       "  </tbody>\n",
       "</table>\n",
       "<p>5 rows × 71 columns</p>\n",
       "</div>"
      ],
      "text/plain": [
       "   loan_amnt  term  int_rate  installment home_ownership  annual_inc  \\\n",
       "0    10000.0    36     11.44       329.48           RENT    117000.0   \n",
       "1     8000.0    36     11.99       265.68       MORTGAGE     65000.0   \n",
       "2    15600.0    36     10.49       506.97           RENT     43057.0   \n",
       "3     7200.0    36      6.49       220.65           RENT     54000.0   \n",
       "4    24375.0    60     17.27       609.33       MORTGAGE     55000.0   \n",
       "\n",
       "    issue_d  loan_status    dti earliest_cr_line  ...  \\\n",
       "0  Jan-2015   Fully Paid  26.24         Jun-1990  ...   \n",
       "1  Jan-2015   Fully Paid  22.05         Jul-2004  ...   \n",
       "2  Jan-2015   Fully Paid  12.79         Aug-2007  ...   \n",
       "3  Nov-2014   Fully Paid   2.60         Sep-2006  ...   \n",
       "4  Apr-2013  Charged Off  33.95         Mar-1999  ...   \n",
       "\n",
       "   purpose_home_improvement  purpose_house  purpose_major_purchase  \\\n",
       "0                         0              0                       0   \n",
       "1                         0              0                       0   \n",
       "2                         0              0                       0   \n",
       "3                         0              0                       0   \n",
       "4                         0              0                       0   \n",
       "\n",
       "   purpose_medical  purpose_moving  purpose_other  purpose_renewable_energy  \\\n",
       "0                0               0              0                         0   \n",
       "1                0               0              0                         0   \n",
       "2                0               0              0                         0   \n",
       "3                0               0              0                         0   \n",
       "4                0               0              0                         0   \n",
       "\n",
       "  purpose_small_business  purpose_vacation  purpose_wedding  \n",
       "0                      0                 1                0  \n",
       "1                      0                 0                0  \n",
       "2                      0                 0                0  \n",
       "3                      0                 0                0  \n",
       "4                      0                 0                0  \n",
       "\n",
       "[5 rows x 71 columns]"
      ]
     },
     "execution_count": 79,
     "metadata": {},
     "output_type": "execute_result"
    }
   ],
   "source": [
    "df.head()"
   ]
  },
  {
   "cell_type": "code",
   "execution_count": 80,
   "id": "d251fd19",
   "metadata": {
    "execution": {
     "iopub.execute_input": "2022-07-27T15:49:15.772437Z",
     "iopub.status.busy": "2022-07-27T15:49:15.771591Z",
     "iopub.status.idle": "2022-07-27T15:49:15.861069Z",
     "shell.execute_reply": "2022-07-27T15:49:15.859867Z"
    },
    "papermill": {
     "duration": 0.131779,
     "end_time": "2022-07-27T15:49:15.863448",
     "exception": false,
     "start_time": "2022-07-27T15:49:15.731669",
     "status": "completed"
    },
    "tags": []
   },
   "outputs": [
    {
     "data": {
      "text/plain": [
       "Index(['home_ownership', 'issue_d', 'loan_status', 'earliest_cr_line',\n",
       "       'address'],\n",
       "      dtype='object')"
      ]
     },
     "execution_count": 80,
     "metadata": {},
     "output_type": "execute_result"
    }
   ],
   "source": [
    "df.select_dtypes('object').columns"
   ]
  },
  {
   "cell_type": "code",
   "execution_count": 81,
   "id": "3c11c65e",
   "metadata": {
    "execution": {
     "iopub.execute_input": "2022-07-27T15:49:15.942429Z",
     "iopub.status.busy": "2022-07-27T15:49:15.941664Z",
     "iopub.status.idle": "2022-07-27T15:49:15.979570Z",
     "shell.execute_reply": "2022-07-27T15:49:15.978215Z"
    },
    "papermill": {
     "duration": 0.080705,
     "end_time": "2022-07-27T15:49:15.982274",
     "exception": false,
     "start_time": "2022-07-27T15:49:15.901569",
     "status": "completed"
    },
    "tags": []
   },
   "outputs": [
    {
     "data": {
      "text/plain": [
       "home_ownership\n",
       "MORTGAGE    198022\n",
       "RENT        159395\n",
       "OWN          37660\n",
       "OTHER          110\n",
       "NONE            29\n",
       "ANY              3\n",
       "dtype: int64"
      ]
     },
     "execution_count": 81,
     "metadata": {},
     "output_type": "execute_result"
    }
   ],
   "source": [
    "df.value_counts('home_ownership')"
   ]
  },
  {
   "cell_type": "code",
   "execution_count": 82,
   "id": "f0eade63",
   "metadata": {
    "execution": {
     "iopub.execute_input": "2022-07-27T15:49:16.062899Z",
     "iopub.status.busy": "2022-07-27T15:49:16.062109Z",
     "iopub.status.idle": "2022-07-27T15:49:16.110691Z",
     "shell.execute_reply": "2022-07-27T15:49:16.109506Z"
    },
    "papermill": {
     "duration": 0.092021,
     "end_time": "2022-07-27T15:49:16.113400",
     "exception": false,
     "start_time": "2022-07-27T15:49:16.021379",
     "status": "completed"
    },
    "tags": []
   },
   "outputs": [],
   "source": [
    "df['home_ownership'] = df['home_ownership'].replace(['NONE', 'ANY'], 'OTHER')"
   ]
  },
  {
   "cell_type": "code",
   "execution_count": 83,
   "id": "c7c9b0bf",
   "metadata": {
    "execution": {
     "iopub.execute_input": "2022-07-27T15:49:16.193307Z",
     "iopub.status.busy": "2022-07-27T15:49:16.192876Z",
     "iopub.status.idle": "2022-07-27T15:49:16.229074Z",
     "shell.execute_reply": "2022-07-27T15:49:16.228233Z"
    },
    "papermill": {
     "duration": 0.079229,
     "end_time": "2022-07-27T15:49:16.231252",
     "exception": false,
     "start_time": "2022-07-27T15:49:16.152023",
     "status": "completed"
    },
    "tags": []
   },
   "outputs": [
    {
     "data": {
      "text/plain": [
       "home_ownership\n",
       "MORTGAGE    198022\n",
       "RENT        159395\n",
       "OWN          37660\n",
       "OTHER          142\n",
       "dtype: int64"
      ]
     },
     "execution_count": 83,
     "metadata": {},
     "output_type": "execute_result"
    }
   ],
   "source": [
    "df.value_counts('home_ownership')"
   ]
  },
  {
   "cell_type": "code",
   "execution_count": 84,
   "id": "4159cffa",
   "metadata": {
    "execution": {
     "iopub.execute_input": "2022-07-27T15:49:16.310662Z",
     "iopub.status.busy": "2022-07-27T15:49:16.309807Z",
     "iopub.status.idle": "2022-07-27T15:49:16.350080Z",
     "shell.execute_reply": "2022-07-27T15:49:16.349179Z"
    },
    "papermill": {
     "duration": 0.082708,
     "end_time": "2022-07-27T15:49:16.352557",
     "exception": false,
     "start_time": "2022-07-27T15:49:16.269849",
     "status": "completed"
    },
    "tags": []
   },
   "outputs": [],
   "source": [
    "owner_dummy = pd.get_dummies(df['home_ownership'], drop_first=True)"
   ]
  },
  {
   "cell_type": "code",
   "execution_count": 85,
   "id": "2ae30f68",
   "metadata": {
    "execution": {
     "iopub.execute_input": "2022-07-27T15:49:16.433219Z",
     "iopub.status.busy": "2022-07-27T15:49:16.432506Z",
     "iopub.status.idle": "2022-07-27T15:49:16.490821Z",
     "shell.execute_reply": "2022-07-27T15:49:16.489507Z"
    },
    "papermill": {
     "duration": 0.10158,
     "end_time": "2022-07-27T15:49:16.493448",
     "exception": false,
     "start_time": "2022-07-27T15:49:16.391868",
     "status": "completed"
    },
    "tags": []
   },
   "outputs": [],
   "source": [
    "df = pd.concat([df,owner_dummy], axis=1)"
   ]
  },
  {
   "cell_type": "code",
   "execution_count": 86,
   "id": "3b7b6e84",
   "metadata": {
    "execution": {
     "iopub.execute_input": "2022-07-27T15:49:16.572478Z",
     "iopub.status.busy": "2022-07-27T15:49:16.572043Z",
     "iopub.status.idle": "2022-07-27T15:49:16.696679Z",
     "shell.execute_reply": "2022-07-27T15:49:16.695508Z"
    },
    "papermill": {
     "duration": 0.166992,
     "end_time": "2022-07-27T15:49:16.699282",
     "exception": false,
     "start_time": "2022-07-27T15:49:16.532290",
     "status": "completed"
    },
    "tags": []
   },
   "outputs": [],
   "source": [
    "df = df.drop('home_ownership', axis=1)"
   ]
  },
  {
   "cell_type": "code",
   "execution_count": 87,
   "id": "bf460d48",
   "metadata": {
    "execution": {
     "iopub.execute_input": "2022-07-27T15:49:16.778981Z",
     "iopub.status.busy": "2022-07-27T15:49:16.778613Z",
     "iopub.status.idle": "2022-07-27T15:49:16.804364Z",
     "shell.execute_reply": "2022-07-27T15:49:16.803191Z"
    },
    "papermill": {
     "duration": 0.068163,
     "end_time": "2022-07-27T15:49:16.806788",
     "exception": false,
     "start_time": "2022-07-27T15:49:16.738625",
     "status": "completed"
    },
    "tags": []
   },
   "outputs": [
    {
     "data": {
      "text/plain": [
       "Index(['issue_d', 'loan_status', 'earliest_cr_line', 'address'], dtype='object')"
      ]
     },
     "execution_count": 87,
     "metadata": {},
     "output_type": "execute_result"
    }
   ],
   "source": [
    "df.select_dtypes('object').columns"
   ]
  },
  {
   "cell_type": "markdown",
   "id": "57735fb4",
   "metadata": {
    "papermill": {
     "duration": 0.039214,
     "end_time": "2022-07-27T15:49:16.885213",
     "exception": false,
     "start_time": "2022-07-27T15:49:16.845999",
     "status": "completed"
    },
    "tags": []
   },
   "source": [
    " extracts the zip code from the address column:"
   ]
  },
  {
   "cell_type": "code",
   "execution_count": 88,
   "id": "cfddb599",
   "metadata": {
    "execution": {
     "iopub.execute_input": "2022-07-27T15:49:16.964924Z",
     "iopub.status.busy": "2022-07-27T15:49:16.964533Z",
     "iopub.status.idle": "2022-07-27T15:49:16.971421Z",
     "shell.execute_reply": "2022-07-27T15:49:16.970294Z"
    },
    "papermill": {
     "duration": 0.048805,
     "end_time": "2022-07-27T15:49:16.973471",
     "exception": false,
     "start_time": "2022-07-27T15:49:16.924666",
     "status": "completed"
    },
    "tags": []
   },
   "outputs": [
    {
     "data": {
      "text/plain": [
       "'05113'"
      ]
     },
     "execution_count": 88,
     "metadata": {},
     "output_type": "execute_result"
    }
   ],
   "source": [
    "df['address'][1][-5:]"
   ]
  },
  {
   "cell_type": "code",
   "execution_count": 89,
   "id": "fc4bf19c",
   "metadata": {
    "execution": {
     "iopub.execute_input": "2022-07-27T15:49:17.053771Z",
     "iopub.status.busy": "2022-07-27T15:49:17.053333Z",
     "iopub.status.idle": "2022-07-27T15:49:17.280337Z",
     "shell.execute_reply": "2022-07-27T15:49:17.279392Z"
    },
    "papermill": {
     "duration": 0.270559,
     "end_time": "2022-07-27T15:49:17.282835",
     "exception": false,
     "start_time": "2022-07-27T15:49:17.012276",
     "status": "completed"
    },
    "tags": []
   },
   "outputs": [],
   "source": [
    "df['zip_code']= df['address'].apply(lambda x : int(x[-5:]))"
   ]
  },
  {
   "cell_type": "code",
   "execution_count": 90,
   "id": "e99cea99",
   "metadata": {
    "execution": {
     "iopub.execute_input": "2022-07-27T15:49:17.365874Z",
     "iopub.status.busy": "2022-07-27T15:49:17.364671Z",
     "iopub.status.idle": "2022-07-27T15:49:17.374694Z",
     "shell.execute_reply": "2022-07-27T15:49:17.373873Z"
    },
    "papermill": {
     "duration": 0.052488,
     "end_time": "2022-07-27T15:49:17.376600",
     "exception": false,
     "start_time": "2022-07-27T15:49:17.324112",
     "status": "completed"
    },
    "tags": []
   },
   "outputs": [
    {
     "data": {
      "text/plain": [
       "70466    56880\n",
       "22690    56413\n",
       "30723    56402\n",
       "48052    55811\n",
       "813      45725\n",
       "29597    45393\n",
       "5113     45300\n",
       "11650    11210\n",
       "93700    11126\n",
       "86630    10959\n",
       "Name: zip_code, dtype: int64"
      ]
     },
     "execution_count": 90,
     "metadata": {},
     "output_type": "execute_result"
    }
   ],
   "source": [
    "df['zip_code'].value_counts()"
   ]
  },
  {
   "cell_type": "code",
   "execution_count": 91,
   "id": "d034b2a0",
   "metadata": {
    "execution": {
     "iopub.execute_input": "2022-07-27T15:49:17.456928Z",
     "iopub.status.busy": "2022-07-27T15:49:17.456265Z",
     "iopub.status.idle": "2022-07-27T15:49:17.486615Z",
     "shell.execute_reply": "2022-07-27T15:49:17.485364Z"
    },
    "papermill": {
     "duration": 0.073401,
     "end_time": "2022-07-27T15:49:17.489176",
     "exception": false,
     "start_time": "2022-07-27T15:49:17.415775",
     "status": "completed"
    },
    "tags": []
   },
   "outputs": [],
   "source": [
    "zip_dummy = pd.get_dummies(df['zip_code'], drop_first=True)"
   ]
  },
  {
   "cell_type": "code",
   "execution_count": 92,
   "id": "e33ee1c9",
   "metadata": {
    "execution": {
     "iopub.execute_input": "2022-07-27T15:49:17.570086Z",
     "iopub.status.busy": "2022-07-27T15:49:17.568981Z",
     "iopub.status.idle": "2022-07-27T15:49:17.614762Z",
     "shell.execute_reply": "2022-07-27T15:49:17.613606Z"
    },
    "papermill": {
     "duration": 0.089153,
     "end_time": "2022-07-27T15:49:17.617329",
     "exception": false,
     "start_time": "2022-07-27T15:49:17.528176",
     "status": "completed"
    },
    "tags": []
   },
   "outputs": [],
   "source": [
    "df = pd.concat([df,zip_dummy],axis=1)"
   ]
  },
  {
   "cell_type": "code",
   "execution_count": 93,
   "id": "8ad32690",
   "metadata": {
    "execution": {
     "iopub.execute_input": "2022-07-27T15:49:17.697214Z",
     "iopub.status.busy": "2022-07-27T15:49:17.696826Z",
     "iopub.status.idle": "2022-07-27T15:49:17.805784Z",
     "shell.execute_reply": "2022-07-27T15:49:17.804611Z"
    },
    "papermill": {
     "duration": 0.151855,
     "end_time": "2022-07-27T15:49:17.808237",
     "exception": false,
     "start_time": "2022-07-27T15:49:17.656382",
     "status": "completed"
    },
    "tags": []
   },
   "outputs": [],
   "source": [
    "df = df.drop(['zip_code','address'], axis=1)"
   ]
  },
  {
   "cell_type": "code",
   "execution_count": 94,
   "id": "eb48b433",
   "metadata": {
    "execution": {
     "iopub.execute_input": "2022-07-27T15:49:17.887659Z",
     "iopub.status.busy": "2022-07-27T15:49:17.887246Z",
     "iopub.status.idle": "2022-07-27T15:49:17.904010Z",
     "shell.execute_reply": "2022-07-27T15:49:17.902845Z"
    },
    "papermill": {
     "duration": 0.060017,
     "end_time": "2022-07-27T15:49:17.906452",
     "exception": false,
     "start_time": "2022-07-27T15:49:17.846435",
     "status": "completed"
    },
    "tags": []
   },
   "outputs": [
    {
     "data": {
      "text/plain": [
       "Index(['issue_d', 'loan_status', 'earliest_cr_line'], dtype='object')"
      ]
     },
     "execution_count": 94,
     "metadata": {},
     "output_type": "execute_result"
    }
   ],
   "source": [
    "df.select_dtypes('object').columns"
   ]
  },
  {
   "cell_type": "markdown",
   "id": "d09c3603",
   "metadata": {
    "papermill": {
     "duration": 0.038628,
     "end_time": "2022-07-27T15:49:17.985342",
     "exception": false,
     "start_time": "2022-07-27T15:49:17.946714",
     "status": "completed"
    },
    "tags": []
   },
   "source": [
    "drop issue_date since we wouldn't know beforehand whether or not a loan would be issued when using our model"
   ]
  },
  {
   "cell_type": "code",
   "execution_count": 95,
   "id": "097c92b8",
   "metadata": {
    "execution": {
     "iopub.execute_input": "2022-07-27T15:49:18.066145Z",
     "iopub.status.busy": "2022-07-27T15:49:18.065713Z",
     "iopub.status.idle": "2022-07-27T15:49:18.117666Z",
     "shell.execute_reply": "2022-07-27T15:49:18.116421Z"
    },
    "papermill": {
     "duration": 0.095825,
     "end_time": "2022-07-27T15:49:18.120301",
     "exception": false,
     "start_time": "2022-07-27T15:49:18.024476",
     "status": "completed"
    },
    "tags": []
   },
   "outputs": [],
   "source": [
    "df = df.drop('issue_d', axis=1)"
   ]
  },
  {
   "cell_type": "code",
   "execution_count": 96,
   "id": "326e398f",
   "metadata": {
    "execution": {
     "iopub.execute_input": "2022-07-27T15:49:18.199805Z",
     "iopub.status.busy": "2022-07-27T15:49:18.199406Z",
     "iopub.status.idle": "2022-07-27T15:49:18.208197Z",
     "shell.execute_reply": "2022-07-27T15:49:18.207038Z"
    },
    "papermill": {
     "duration": 0.051865,
     "end_time": "2022-07-27T15:49:18.210650",
     "exception": false,
     "start_time": "2022-07-27T15:49:18.158785",
     "status": "completed"
    },
    "tags": []
   },
   "outputs": [
    {
     "data": {
      "text/plain": [
       "0         Jun-1990\n",
       "1         Jul-2004\n",
       "2         Aug-2007\n",
       "3         Sep-2006\n",
       "4         Mar-1999\n",
       "            ...   \n",
       "396025    Nov-2004\n",
       "396026    Feb-2006\n",
       "396027    Mar-1997\n",
       "396028    Nov-1990\n",
       "396029    Sep-1998\n",
       "Name: earliest_cr_line, Length: 395219, dtype: object"
      ]
     },
     "execution_count": 96,
     "metadata": {},
     "output_type": "execute_result"
    }
   ],
   "source": [
    "df['earliest_cr_line']"
   ]
  },
  {
   "cell_type": "markdown",
   "id": "c77c724e",
   "metadata": {
    "papermill": {
     "duration": 0.038587,
     "end_time": "2022-07-27T15:49:18.288686",
     "exception": false,
     "start_time": "2022-07-27T15:49:18.250099",
     "status": "completed"
    },
    "tags": []
   },
   "source": [
    "Extract the year from this"
   ]
  },
  {
   "cell_type": "code",
   "execution_count": 97,
   "id": "91830d2f",
   "metadata": {
    "execution": {
     "iopub.execute_input": "2022-07-27T15:49:18.369019Z",
     "iopub.status.busy": "2022-07-27T15:49:18.368651Z",
     "iopub.status.idle": "2022-07-27T15:49:18.584393Z",
     "shell.execute_reply": "2022-07-27T15:49:18.583198Z"
    },
    "papermill": {
     "duration": 0.258937,
     "end_time": "2022-07-27T15:49:18.586986",
     "exception": false,
     "start_time": "2022-07-27T15:49:18.328049",
     "status": "completed"
    },
    "tags": []
   },
   "outputs": [],
   "source": [
    "df['earliest_cr_year']= df['earliest_cr_line'].apply(lambda x : int(x[-4:]))"
   ]
  },
  {
   "cell_type": "code",
   "execution_count": 98,
   "id": "8ab29235",
   "metadata": {
    "execution": {
     "iopub.execute_input": "2022-07-27T15:49:18.671283Z",
     "iopub.status.busy": "2022-07-27T15:49:18.670428Z",
     "iopub.status.idle": "2022-07-27T15:49:18.712707Z",
     "shell.execute_reply": "2022-07-27T15:49:18.711684Z"
    },
    "papermill": {
     "duration": 0.089121,
     "end_time": "2022-07-27T15:49:18.714988",
     "exception": false,
     "start_time": "2022-07-27T15:49:18.625867",
     "status": "completed"
    },
    "tags": []
   },
   "outputs": [],
   "source": [
    "df = df.drop('earliest_cr_line',axis=1)"
   ]
  },
  {
   "cell_type": "code",
   "execution_count": 99,
   "id": "831e4e2a",
   "metadata": {
    "execution": {
     "iopub.execute_input": "2022-07-27T15:49:18.795516Z",
     "iopub.status.busy": "2022-07-27T15:49:18.794762Z",
     "iopub.status.idle": "2022-07-27T15:49:18.808497Z",
     "shell.execute_reply": "2022-07-27T15:49:18.807584Z"
    },
    "papermill": {
     "duration": 0.056845,
     "end_time": "2022-07-27T15:49:18.810812",
     "exception": false,
     "start_time": "2022-07-27T15:49:18.753967",
     "status": "completed"
    },
    "tags": []
   },
   "outputs": [
    {
     "data": {
      "text/plain": [
       "Index(['loan_status'], dtype='object')"
      ]
     },
     "execution_count": 99,
     "metadata": {},
     "output_type": "execute_result"
    }
   ],
   "source": [
    "df.select_dtypes(['object']).columns"
   ]
  },
  {
   "cell_type": "code",
   "execution_count": 100,
   "id": "90462dd1",
   "metadata": {
    "execution": {
     "iopub.execute_input": "2022-07-27T15:49:18.891508Z",
     "iopub.status.busy": "2022-07-27T15:49:18.890071Z",
     "iopub.status.idle": "2022-07-27T15:49:18.930545Z",
     "shell.execute_reply": "2022-07-27T15:49:18.928633Z"
    },
    "papermill": {
     "duration": 0.083995,
     "end_time": "2022-07-27T15:49:18.933615",
     "exception": false,
     "start_time": "2022-07-27T15:49:18.849620",
     "status": "completed"
    },
    "tags": []
   },
   "outputs": [],
   "source": [
    "df = df.drop('loan_status', axis=1)"
   ]
  },
  {
   "cell_type": "markdown",
   "id": "9ec2532a",
   "metadata": {
    "papermill": {
     "duration": 0.039749,
     "end_time": "2022-07-27T15:49:19.012395",
     "exception": false,
     "start_time": "2022-07-27T15:49:18.972646",
     "status": "completed"
    },
    "tags": []
   },
   "source": [
    "## Train Test Split\n"
   ]
  },
  {
   "cell_type": "code",
   "execution_count": 101,
   "id": "259ea729",
   "metadata": {
    "execution": {
     "iopub.execute_input": "2022-07-27T15:49:19.095744Z",
     "iopub.status.busy": "2022-07-27T15:49:19.094504Z",
     "iopub.status.idle": "2022-07-27T15:49:19.322848Z",
     "shell.execute_reply": "2022-07-27T15:49:19.321516Z"
    },
    "papermill": {
     "duration": 0.272231,
     "end_time": "2022-07-27T15:49:19.325479",
     "exception": false,
     "start_time": "2022-07-27T15:49:19.053248",
     "status": "completed"
    },
    "tags": []
   },
   "outputs": [],
   "source": [
    "from sklearn.model_selection import train_test_split"
   ]
  },
  {
   "cell_type": "code",
   "execution_count": 102,
   "id": "c1c67675",
   "metadata": {
    "execution": {
     "iopub.execute_input": "2022-07-27T15:49:19.464677Z",
     "iopub.status.busy": "2022-07-27T15:49:19.464254Z",
     "iopub.status.idle": "2022-07-27T15:49:19.587707Z",
     "shell.execute_reply": "2022-07-27T15:49:19.586440Z"
    },
    "papermill": {
     "duration": 0.224891,
     "end_time": "2022-07-27T15:49:19.590537",
     "exception": false,
     "start_time": "2022-07-27T15:49:19.365646",
     "status": "completed"
    },
    "tags": []
   },
   "outputs": [],
   "source": [
    "X = df.drop('loan_repaid', axis=1).values\n",
    "y = df['loan_repaid'].values\n"
   ]
  },
  {
   "cell_type": "code",
   "execution_count": 103,
   "id": "147a2102",
   "metadata": {
    "execution": {
     "iopub.execute_input": "2022-07-27T15:49:19.670392Z",
     "iopub.status.busy": "2022-07-27T15:49:19.669960Z",
     "iopub.status.idle": "2022-07-27T15:49:20.100665Z",
     "shell.execute_reply": "2022-07-27T15:49:20.099587Z"
    },
    "papermill": {
     "duration": 0.473809,
     "end_time": "2022-07-27T15:49:20.103207",
     "exception": false,
     "start_time": "2022-07-27T15:49:19.629398",
     "status": "completed"
    },
    "tags": []
   },
   "outputs": [],
   "source": [
    "X_train, X_test, y_train, y_test = train_test_split(X, y, test_size=0.2, random_state=101)\n"
   ]
  },
  {
   "cell_type": "markdown",
   "id": "30e2bebf",
   "metadata": {
    "papermill": {
     "duration": 0.039127,
     "end_time": "2022-07-27T15:49:20.181960",
     "exception": false,
     "start_time": "2022-07-27T15:49:20.142833",
     "status": "completed"
    },
    "tags": []
   },
   "source": [
    "## Normalizing the Data\n"
   ]
  },
  {
   "cell_type": "code",
   "execution_count": 104,
   "id": "e162dead",
   "metadata": {
    "execution": {
     "iopub.execute_input": "2022-07-27T15:49:20.267419Z",
     "iopub.status.busy": "2022-07-27T15:49:20.266575Z",
     "iopub.status.idle": "2022-07-27T15:49:20.272140Z",
     "shell.execute_reply": "2022-07-27T15:49:20.271218Z"
    },
    "papermill": {
     "duration": 0.050407,
     "end_time": "2022-07-27T15:49:20.274542",
     "exception": false,
     "start_time": "2022-07-27T15:49:20.224135",
     "status": "completed"
    },
    "tags": []
   },
   "outputs": [],
   "source": [
    "from sklearn.preprocessing import MinMaxScaler"
   ]
  },
  {
   "cell_type": "code",
   "execution_count": 105,
   "id": "42ef2aa6",
   "metadata": {
    "execution": {
     "iopub.execute_input": "2022-07-27T15:49:20.354268Z",
     "iopub.status.busy": "2022-07-27T15:49:20.353490Z",
     "iopub.status.idle": "2022-07-27T15:49:20.358320Z",
     "shell.execute_reply": "2022-07-27T15:49:20.357510Z"
    },
    "papermill": {
     "duration": 0.047021,
     "end_time": "2022-07-27T15:49:20.360417",
     "exception": false,
     "start_time": "2022-07-27T15:49:20.313396",
     "status": "completed"
    },
    "tags": []
   },
   "outputs": [],
   "source": [
    "scaler = MinMaxScaler()"
   ]
  },
  {
   "cell_type": "code",
   "execution_count": 106,
   "id": "2813c75f",
   "metadata": {
    "execution": {
     "iopub.execute_input": "2022-07-27T15:49:20.440249Z",
     "iopub.status.busy": "2022-07-27T15:49:20.439487Z",
     "iopub.status.idle": "2022-07-27T15:49:20.697657Z",
     "shell.execute_reply": "2022-07-27T15:49:20.696319Z"
    },
    "papermill": {
     "duration": 0.301533,
     "end_time": "2022-07-27T15:49:20.700366",
     "exception": false,
     "start_time": "2022-07-27T15:49:20.398833",
     "status": "completed"
    },
    "tags": []
   },
   "outputs": [],
   "source": [
    "X_train = scaler.fit_transform(X_train)"
   ]
  },
  {
   "cell_type": "code",
   "execution_count": 107,
   "id": "140d629c",
   "metadata": {
    "execution": {
     "iopub.execute_input": "2022-07-27T15:49:20.780766Z",
     "iopub.status.busy": "2022-07-27T15:49:20.779968Z",
     "iopub.status.idle": "2022-07-27T15:49:20.822845Z",
     "shell.execute_reply": "2022-07-27T15:49:20.821807Z"
    },
    "papermill": {
     "duration": 0.085751,
     "end_time": "2022-07-27T15:49:20.825567",
     "exception": false,
     "start_time": "2022-07-27T15:49:20.739816",
     "status": "completed"
    },
    "tags": []
   },
   "outputs": [],
   "source": [
    "X_test = scaler.transform(X_test)"
   ]
  },
  {
   "cell_type": "markdown",
   "id": "a2ffc7c6",
   "metadata": {
    "papermill": {
     "duration": 0.038738,
     "end_time": "2022-07-27T15:49:20.903896",
     "exception": false,
     "start_time": "2022-07-27T15:49:20.865158",
     "status": "completed"
    },
    "tags": []
   },
   "source": [
    "# Creating the Model\n"
   ]
  },
  {
   "cell_type": "code",
   "execution_count": 108,
   "id": "ba5f8992",
   "metadata": {
    "execution": {
     "iopub.execute_input": "2022-07-27T15:49:20.984546Z",
     "iopub.status.busy": "2022-07-27T15:49:20.983839Z",
     "iopub.status.idle": "2022-07-27T15:49:27.444354Z",
     "shell.execute_reply": "2022-07-27T15:49:27.443255Z"
    },
    "papermill": {
     "duration": 6.503314,
     "end_time": "2022-07-27T15:49:27.446867",
     "exception": false,
     "start_time": "2022-07-27T15:49:20.943553",
     "status": "completed"
    },
    "tags": []
   },
   "outputs": [],
   "source": [
    "from tensorflow.keras.models import Sequential\n",
    "from tensorflow.keras.layers import Dense, Activation, Dropout"
   ]
  },
  {
   "cell_type": "code",
   "execution_count": 109,
   "id": "f62905ec",
   "metadata": {
    "execution": {
     "iopub.execute_input": "2022-07-27T15:49:27.526917Z",
     "iopub.status.busy": "2022-07-27T15:49:27.526172Z",
     "iopub.status.idle": "2022-07-27T15:49:27.533414Z",
     "shell.execute_reply": "2022-07-27T15:49:27.532246Z"
    },
    "papermill": {
     "duration": 0.049471,
     "end_time": "2022-07-27T15:49:27.535607",
     "exception": false,
     "start_time": "2022-07-27T15:49:27.486136",
     "status": "completed"
    },
    "tags": []
   },
   "outputs": [
    {
     "data": {
      "text/plain": [
       "(316175, 78)"
      ]
     },
     "execution_count": 109,
     "metadata": {},
     "output_type": "execute_result"
    }
   ],
   "source": [
    "X_train.shape"
   ]
  },
  {
   "cell_type": "code",
   "execution_count": 110,
   "id": "14247d06",
   "metadata": {
    "execution": {
     "iopub.execute_input": "2022-07-27T15:49:27.617621Z",
     "iopub.status.busy": "2022-07-27T15:49:27.616899Z",
     "iopub.status.idle": "2022-07-27T15:49:27.921481Z",
     "shell.execute_reply": "2022-07-27T15:49:27.920233Z"
    },
    "papermill": {
     "duration": 0.348602,
     "end_time": "2022-07-27T15:49:27.924065",
     "exception": false,
     "start_time": "2022-07-27T15:49:27.575463",
     "status": "completed"
    },
    "tags": []
   },
   "outputs": [
    {
     "name": "stderr",
     "output_type": "stream",
     "text": [
      "2022-07-27 15:49:27.667084: I tensorflow/core/common_runtime/process_util.cc:146] Creating new thread pool with default inter op setting: 2. Tune using inter_op_parallelism_threads for best performance.\n"
     ]
    }
   ],
   "source": [
    "model = Sequential()\n",
    "\n",
    "model.add(Dense(78,activation='relu'))\n",
    "model.add(Dropout(0.5))\n",
    "\n",
    "model.add(Dense(39,activation='relu'))\n",
    "model.add(Dropout(0.5))\n",
    "\n",
    "model.add(Dense(19,activation='relu'))\n",
    "model.add(Dropout(0.5))\n",
    "\n",
    "# Final output node for prediction\n",
    "model.add(Dense(1, activation='sigmoid'))\n",
    "\n",
    "model.compile(optimizer='adam',loss='binary_crossentropy') "
   ]
  },
  {
   "cell_type": "code",
   "execution_count": 111,
   "id": "05e8ff73",
   "metadata": {
    "execution": {
     "iopub.execute_input": "2022-07-27T15:49:28.005372Z",
     "iopub.status.busy": "2022-07-27T15:49:28.004588Z",
     "iopub.status.idle": "2022-07-27T15:49:28.009983Z",
     "shell.execute_reply": "2022-07-27T15:49:28.009217Z"
    },
    "papermill": {
     "duration": 0.049563,
     "end_time": "2022-07-27T15:49:28.012415",
     "exception": false,
     "start_time": "2022-07-27T15:49:27.962852",
     "status": "completed"
    },
    "tags": []
   },
   "outputs": [],
   "source": [
    "from tensorflow.keras.callbacks import EarlyStopping\n"
   ]
  },
  {
   "cell_type": "code",
   "execution_count": 112,
   "id": "d959bd99",
   "metadata": {
    "execution": {
     "iopub.execute_input": "2022-07-27T15:49:28.091833Z",
     "iopub.status.busy": "2022-07-27T15:49:28.091465Z",
     "iopub.status.idle": "2022-07-27T15:49:28.096717Z",
     "shell.execute_reply": "2022-07-27T15:49:28.095461Z"
    },
    "papermill": {
     "duration": 0.04755,
     "end_time": "2022-07-27T15:49:28.098919",
     "exception": false,
     "start_time": "2022-07-27T15:49:28.051369",
     "status": "completed"
    },
    "tags": []
   },
   "outputs": [],
   "source": [
    "early_stop = EarlyStopping(monitor='val_loss', mode = 'min', verbose=1, patience=25)"
   ]
  },
  {
   "cell_type": "code",
   "execution_count": 113,
   "id": "f1d7de7f",
   "metadata": {
    "execution": {
     "iopub.execute_input": "2022-07-27T15:49:28.178916Z",
     "iopub.status.busy": "2022-07-27T15:49:28.178134Z",
     "iopub.status.idle": "2022-07-27T15:58:48.872948Z",
     "shell.execute_reply": "2022-07-27T15:58:48.871424Z"
    },
    "papermill": {
     "duration": 560.738323,
     "end_time": "2022-07-27T15:58:48.876017",
     "exception": false,
     "start_time": "2022-07-27T15:49:28.137694",
     "status": "completed"
    },
    "tags": []
   },
   "outputs": [
    {
     "name": "stderr",
     "output_type": "stream",
     "text": [
      "2022-07-27 15:49:28.396613: I tensorflow/compiler/mlir/mlir_graph_optimization_pass.cc:185] None of the MLIR Optimization Passes are enabled (registered 2)\n"
     ]
    },
    {
     "name": "stdout",
     "output_type": "stream",
     "text": [
      "Epoch 1/400\n",
      "2471/2471 [==============================] - 9s 3ms/step - loss: 0.3198 - val_loss: 0.2668\n",
      "Epoch 2/400\n",
      "2471/2471 [==============================] - 8s 3ms/step - loss: 0.2705 - val_loss: 0.2650\n",
      "Epoch 3/400\n",
      "2471/2471 [==============================] - 8s 3ms/step - loss: 0.2673 - val_loss: 0.2651\n",
      "Epoch 4/400\n",
      "2471/2471 [==============================] - 9s 4ms/step - loss: 0.2662 - val_loss: 0.2647\n",
      "Epoch 5/400\n",
      "2471/2471 [==============================] - 9s 4ms/step - loss: 0.2656 - val_loss: 0.2646\n",
      "Epoch 6/400\n",
      "2471/2471 [==============================] - 8s 3ms/step - loss: 0.2650 - val_loss: 0.2640\n",
      "Epoch 7/400\n",
      "2471/2471 [==============================] - 8s 3ms/step - loss: 0.2651 - val_loss: 0.2639\n",
      "Epoch 8/400\n",
      "2471/2471 [==============================] - 8s 3ms/step - loss: 0.2646 - val_loss: 0.2632\n",
      "Epoch 9/400\n",
      "2471/2471 [==============================] - 9s 4ms/step - loss: 0.2644 - val_loss: 0.2642\n",
      "Epoch 10/400\n",
      "2471/2471 [==============================] - 8s 3ms/step - loss: 0.2641 - val_loss: 0.2643\n",
      "Epoch 11/400\n",
      "2471/2471 [==============================] - 8s 3ms/step - loss: 0.2638 - val_loss: 0.2628\n",
      "Epoch 12/400\n",
      "2471/2471 [==============================] - 8s 3ms/step - loss: 0.2640 - val_loss: 0.2632\n",
      "Epoch 13/400\n",
      "2471/2471 [==============================] - 9s 3ms/step - loss: 0.2639 - val_loss: 0.2629\n",
      "Epoch 14/400\n",
      "2471/2471 [==============================] - 8s 3ms/step - loss: 0.2633 - val_loss: 0.2627\n",
      "Epoch 15/400\n",
      "2471/2471 [==============================] - 8s 3ms/step - loss: 0.2638 - val_loss: 0.2628\n",
      "Epoch 16/400\n",
      "2471/2471 [==============================] - 8s 3ms/step - loss: 0.2629 - val_loss: 0.2621\n",
      "Epoch 17/400\n",
      "2471/2471 [==============================] - 8s 3ms/step - loss: 0.2633 - val_loss: 0.2627\n",
      "Epoch 18/400\n",
      "2471/2471 [==============================] - 8s 3ms/step - loss: 0.2631 - val_loss: 0.2628\n",
      "Epoch 19/400\n",
      "2471/2471 [==============================] - 8s 3ms/step - loss: 0.2632 - val_loss: 0.2621\n",
      "Epoch 20/400\n",
      "2471/2471 [==============================] - 8s 3ms/step - loss: 0.2634 - val_loss: 0.2625\n",
      "Epoch 21/400\n",
      "2471/2471 [==============================] - 7s 3ms/step - loss: 0.2627 - val_loss: 0.2626\n",
      "Epoch 22/400\n",
      "2471/2471 [==============================] - 8s 3ms/step - loss: 0.2629 - val_loss: 0.2623\n",
      "Epoch 23/400\n",
      "2471/2471 [==============================] - 7s 3ms/step - loss: 0.2628 - val_loss: 0.2624\n",
      "Epoch 24/400\n",
      "2471/2471 [==============================] - 8s 3ms/step - loss: 0.2626 - val_loss: 0.2619\n",
      "Epoch 25/400\n",
      "2471/2471 [==============================] - 8s 3ms/step - loss: 0.2632 - val_loss: 0.2627\n",
      "Epoch 26/400\n",
      "2471/2471 [==============================] - 8s 3ms/step - loss: 0.2625 - val_loss: 0.2628\n",
      "Epoch 27/400\n",
      "2471/2471 [==============================] - 8s 3ms/step - loss: 0.2623 - val_loss: 0.2628\n",
      "Epoch 28/400\n",
      "2471/2471 [==============================] - 8s 3ms/step - loss: 0.2624 - val_loss: 0.2624\n",
      "Epoch 29/400\n",
      "2471/2471 [==============================] - 8s 3ms/step - loss: 0.2624 - val_loss: 0.2620\n",
      "Epoch 30/400\n",
      "2471/2471 [==============================] - 8s 3ms/step - loss: 0.2624 - val_loss: 0.2626\n",
      "Epoch 31/400\n",
      "2471/2471 [==============================] - 8s 3ms/step - loss: 0.2623 - val_loss: 0.2620\n",
      "Epoch 32/400\n",
      "2471/2471 [==============================] - 8s 3ms/step - loss: 0.2622 - val_loss: 0.2620\n",
      "Epoch 33/400\n",
      "2471/2471 [==============================] - 8s 3ms/step - loss: 0.2627 - val_loss: 0.2626\n",
      "Epoch 34/400\n",
      "2471/2471 [==============================] - 8s 3ms/step - loss: 0.2622 - val_loss: 0.2624\n",
      "Epoch 35/400\n",
      "2471/2471 [==============================] - 8s 3ms/step - loss: 0.2619 - val_loss: 0.2620\n",
      "Epoch 36/400\n",
      "2471/2471 [==============================] - 9s 4ms/step - loss: 0.2623 - val_loss: 0.2627\n",
      "Epoch 37/400\n",
      "2471/2471 [==============================] - 8s 3ms/step - loss: 0.2619 - val_loss: 0.2626\n",
      "Epoch 38/400\n",
      "2471/2471 [==============================] - 8s 3ms/step - loss: 0.2621 - val_loss: 0.2618\n",
      "Epoch 39/400\n",
      "2471/2471 [==============================] - 8s 3ms/step - loss: 0.2618 - val_loss: 0.2626\n",
      "Epoch 40/400\n",
      "2471/2471 [==============================] - 8s 3ms/step - loss: 0.2619 - val_loss: 0.2621\n",
      "Epoch 41/400\n",
      "2471/2471 [==============================] - 8s 3ms/step - loss: 0.2617 - val_loss: 0.2620\n",
      "Epoch 42/400\n",
      "2471/2471 [==============================] - 8s 3ms/step - loss: 0.2618 - val_loss: 0.2624\n",
      "Epoch 43/400\n",
      "2471/2471 [==============================] - 8s 3ms/step - loss: 0.2618 - val_loss: 0.2629\n",
      "Epoch 44/400\n",
      "2471/2471 [==============================] - 8s 3ms/step - loss: 0.2618 - val_loss: 0.2618\n",
      "Epoch 45/400\n",
      "2471/2471 [==============================] - 8s 3ms/step - loss: 0.2617 - val_loss: 0.2618\n",
      "Epoch 46/400\n",
      "2471/2471 [==============================] - 9s 3ms/step - loss: 0.2617 - val_loss: 0.2626\n",
      "Epoch 47/400\n",
      "2471/2471 [==============================] - 7s 3ms/step - loss: 0.2620 - val_loss: 0.2630\n",
      "Epoch 48/400\n",
      "2471/2471 [==============================] - 8s 3ms/step - loss: 0.2613 - val_loss: 0.2625\n",
      "Epoch 49/400\n",
      "2471/2471 [==============================] - 8s 3ms/step - loss: 0.2614 - val_loss: 0.2624\n",
      "Epoch 50/400\n",
      "2471/2471 [==============================] - 8s 3ms/step - loss: 0.2612 - val_loss: 0.2623\n",
      "Epoch 51/400\n",
      "2471/2471 [==============================] - 8s 3ms/step - loss: 0.2617 - val_loss: 0.2625\n",
      "Epoch 52/400\n",
      "2471/2471 [==============================] - 8s 3ms/step - loss: 0.2617 - val_loss: 0.2626\n",
      "Epoch 53/400\n",
      "2471/2471 [==============================] - 9s 4ms/step - loss: 0.2612 - val_loss: 0.2624\n",
      "Epoch 54/400\n",
      "2471/2471 [==============================] - 9s 4ms/step - loss: 0.2616 - val_loss: 0.2626\n",
      "Epoch 55/400\n",
      "2471/2471 [==============================] - 7s 3ms/step - loss: 0.2615 - val_loss: 0.2624\n",
      "Epoch 56/400\n",
      "2471/2471 [==============================] - 8s 3ms/step - loss: 0.2613 - val_loss: 0.2625\n",
      "Epoch 57/400\n",
      "2471/2471 [==============================] - 9s 4ms/step - loss: 0.2614 - val_loss: 0.2623\n",
      "Epoch 58/400\n",
      "2471/2471 [==============================] - 8s 3ms/step - loss: 0.2613 - val_loss: 0.2627\n",
      "Epoch 59/400\n",
      "2471/2471 [==============================] - 9s 4ms/step - loss: 0.2611 - val_loss: 0.2632\n",
      "Epoch 60/400\n",
      "2471/2471 [==============================] - 8s 3ms/step - loss: 0.2611 - val_loss: 0.2627\n",
      "Epoch 61/400\n",
      "2471/2471 [==============================] - 8s 3ms/step - loss: 0.2608 - val_loss: 0.2621\n",
      "Epoch 62/400\n",
      "2471/2471 [==============================] - 8s 3ms/step - loss: 0.2611 - val_loss: 0.2624\n",
      "Epoch 63/400\n",
      "2471/2471 [==============================] - 8s 3ms/step - loss: 0.2612 - val_loss: 0.2621\n",
      "Epoch 64/400\n",
      "2471/2471 [==============================] - 8s 3ms/step - loss: 0.2609 - val_loss: 0.2631\n",
      "Epoch 65/400\n",
      "2471/2471 [==============================] - 8s 3ms/step - loss: 0.2611 - val_loss: 0.2628\n",
      "Epoch 66/400\n",
      "2471/2471 [==============================] - 8s 3ms/step - loss: 0.2612 - val_loss: 0.2627\n",
      "Epoch 67/400\n",
      "2471/2471 [==============================] - 9s 4ms/step - loss: 0.2611 - val_loss: 0.2629\n",
      "Epoch 68/400\n",
      "2471/2471 [==============================] - 8s 3ms/step - loss: 0.2609 - val_loss: 0.2629\n",
      "Epoch 69/400\n",
      "2471/2471 [==============================] - 8s 3ms/step - loss: 0.2610 - val_loss: 0.2640\n",
      "Epoch 00069: early stopping\n"
     ]
    },
    {
     "data": {
      "text/plain": [
       "<keras.callbacks.History at 0x7fbe4449f810>"
      ]
     },
     "execution_count": 113,
     "metadata": {},
     "output_type": "execute_result"
    }
   ],
   "source": [
    "model.fit(x=X_train,y=y_train,validation_data=(X_test, y_test) ,batch_size= 128,epochs=400,\n",
    "         callbacks=[early_stop])"
   ]
  },
  {
   "cell_type": "code",
   "execution_count": 114,
   "id": "a816943f",
   "metadata": {
    "execution": {
     "iopub.execute_input": "2022-07-27T15:58:49.999656Z",
     "iopub.status.busy": "2022-07-27T15:58:49.998875Z",
     "iopub.status.idle": "2022-07-27T15:58:50.004776Z",
     "shell.execute_reply": "2022-07-27T15:58:50.004000Z"
    },
    "papermill": {
     "duration": 0.603922,
     "end_time": "2022-07-27T15:58:50.006937",
     "exception": false,
     "start_time": "2022-07-27T15:58:49.403015",
     "status": "completed"
    },
    "tags": []
   },
   "outputs": [],
   "source": [
    "losses = pd.DataFrame(model.history.history)"
   ]
  },
  {
   "cell_type": "code",
   "execution_count": 115,
   "id": "4c983819",
   "metadata": {
    "execution": {
     "iopub.execute_input": "2022-07-27T15:58:51.110848Z",
     "iopub.status.busy": "2022-07-27T15:58:51.108812Z",
     "iopub.status.idle": "2022-07-27T15:58:51.391731Z",
     "shell.execute_reply": "2022-07-27T15:58:51.390544Z"
    },
    "papermill": {
     "duration": 0.863122,
     "end_time": "2022-07-27T15:58:51.394009",
     "exception": false,
     "start_time": "2022-07-27T15:58:50.530887",
     "status": "completed"
    },
    "tags": []
   },
   "outputs": [
    {
     "data": {
      "text/plain": [
       "<AxesSubplot:>"
      ]
     },
     "execution_count": 115,
     "metadata": {},
     "output_type": "execute_result"
    },
    {
     "data": {
      "image/png": "[encoded data removed]",
      "text/plain": [
       "<Figure size 1152x504 with 1 Axes>"
      ]
     },
     "metadata": {},
     "output_type": "display_data"
    }
   ],
   "source": [
    "losses.plot()"
   ]
  },
  {
   "cell_type": "code",
   "execution_count": 116,
   "id": "e6640799",
   "metadata": {
    "execution": {
     "iopub.execute_input": "2022-07-27T15:58:52.500462Z",
     "iopub.status.busy": "2022-07-27T15:58:52.499942Z",
     "iopub.status.idle": "2022-07-27T15:58:52.504521Z",
     "shell.execute_reply": "2022-07-27T15:58:52.503691Z"
    },
    "papermill": {
     "duration": 0.598398,
     "end_time": "2022-07-27T15:58:52.506408",
     "exception": false,
     "start_time": "2022-07-27T15:58:51.908010",
     "status": "completed"
    },
    "tags": []
   },
   "outputs": [],
   "source": [
    "from tensorflow.keras.models import load_model"
   ]
  },
  {
   "cell_type": "code",
   "execution_count": 117,
   "id": "19c62374",
   "metadata": {
    "execution": {
     "iopub.execute_input": "2022-07-27T15:58:53.546021Z",
     "iopub.status.busy": "2022-07-27T15:58:53.544800Z",
     "iopub.status.idle": "2022-07-27T15:58:53.575394Z",
     "shell.execute_reply": "2022-07-27T15:58:53.574375Z"
    },
    "papermill": {
     "duration": 0.555116,
     "end_time": "2022-07-27T15:58:53.577767",
     "exception": false,
     "start_time": "2022-07-27T15:58:53.022651",
     "status": "completed"
    },
    "tags": []
   },
   "outputs": [],
   "source": [
    "model.save('full_data_project_model.h5')  "
   ]
  },
  {
   "cell_type": "code",
   "execution_count": 118,
   "id": "37ba55d4",
   "metadata": {
    "execution": {
     "iopub.execute_input": "2022-07-27T15:58:54.677706Z",
     "iopub.status.busy": "2022-07-27T15:58:54.677318Z",
     "iopub.status.idle": "2022-07-27T15:58:57.365602Z",
     "shell.execute_reply": "2022-07-27T15:58:57.364061Z"
    },
    "papermill": {
     "duration": 3.206902,
     "end_time": "2022-07-27T15:58:57.368506",
     "exception": false,
     "start_time": "2022-07-27T15:58:54.161604",
     "status": "completed"
    },
    "tags": []
   },
   "outputs": [],
   "source": [
    "predictions = (model.predict(X_test) > 0.5).astype(\"int32\")\n"
   ]
  },
  {
   "cell_type": "code",
   "execution_count": 119,
   "id": "c1b259f5",
   "metadata": {
    "execution": {
     "iopub.execute_input": "2022-07-27T15:58:58.482192Z",
     "iopub.status.busy": "2022-07-27T15:58:58.481789Z",
     "iopub.status.idle": "2022-07-27T15:58:58.486650Z",
     "shell.execute_reply": "2022-07-27T15:58:58.485491Z"
    },
    "papermill": {
     "duration": 0.535018,
     "end_time": "2022-07-27T15:58:58.488946",
     "exception": false,
     "start_time": "2022-07-27T15:58:57.953928",
     "status": "completed"
    },
    "tags": []
   },
   "outputs": [],
   "source": [
    "from sklearn.metrics import classification_report,confusion_matrix"
   ]
  },
  {
   "cell_type": "code",
   "execution_count": 120,
   "id": "5f585b99",
   "metadata": {
    "execution": {
     "iopub.execute_input": "2022-07-27T15:58:59.590380Z",
     "iopub.status.busy": "2022-07-27T15:58:59.589572Z",
     "iopub.status.idle": "2022-07-27T15:58:59.736022Z",
     "shell.execute_reply": "2022-07-27T15:58:59.734846Z"
    },
    "papermill": {
     "duration": 0.733794,
     "end_time": "2022-07-27T15:58:59.738458",
     "exception": false,
     "start_time": "2022-07-27T15:58:59.004664",
     "status": "completed"
    },
    "tags": []
   },
   "outputs": [
    {
     "name": "stdout",
     "output_type": "stream",
     "text": [
      "              precision    recall  f1-score   support\n",
      "\n",
      "           0       1.00      0.43      0.60     15658\n",
      "           1       0.88      1.00      0.93     63386\n",
      "\n",
      "    accuracy                           0.89     79044\n",
      "   macro avg       0.94      0.71      0.77     79044\n",
      "weighted avg       0.90      0.89      0.87     79044\n",
      "\n"
     ]
    }
   ],
   "source": [
    "print(classification_report(y_test,predictions))"
   ]
  },
  {
   "cell_type": "code",
   "execution_count": 121,
   "id": "eb34dcec",
   "metadata": {
    "execution": {
     "iopub.execute_input": "2022-07-27T15:59:00.890389Z",
     "iopub.status.busy": "2022-07-27T15:59:00.889670Z",
     "iopub.status.idle": "2022-07-27T15:59:00.909768Z",
     "shell.execute_reply": "2022-07-27T15:59:00.908659Z"
    },
    "papermill": {
     "duration": 0.62668,
     "end_time": "2022-07-27T15:59:00.911895",
     "exception": false,
     "start_time": "2022-07-27T15:59:00.285215",
     "status": "completed"
    },
    "tags": []
   },
   "outputs": [
    {
     "data": {
      "text/plain": [
       "array([[ 6723,  8935],\n",
       "       [    1, 63385]])"
      ]
     },
     "execution_count": 121,
     "metadata": {},
     "output_type": "execute_result"
    }
   ],
   "source": [
    "confusion_matrix(y_test,predictions)"
   ]
  },
  {
   "cell_type": "markdown",
   "id": "11499dfc",
   "metadata": {
    "papermill": {
     "duration": 0.595124,
     "end_time": "2022-07-27T15:59:02.062664",
     "exception": false,
     "start_time": "2022-07-27T15:59:01.467540",
     "status": "completed"
    },
    "tags": []
   },
   "source": [
    "## Testing the model:\n",
    "### Given the customer below, would you offer this person a loan?"
   ]
  },
  {
   "cell_type": "code",
   "execution_count": 122,
   "id": "f2f8db2c",
   "metadata": {
    "execution": {
     "iopub.execute_input": "2022-07-27T15:59:03.145540Z",
     "iopub.status.busy": "2022-07-27T15:59:03.145108Z",
     "iopub.status.idle": "2022-07-27T15:59:03.202890Z",
     "shell.execute_reply": "2022-07-27T15:59:03.201660Z"
    },
    "papermill": {
     "duration": 0.59046,
     "end_time": "2022-07-27T15:59:03.205132",
     "exception": false,
     "start_time": "2022-07-27T15:59:02.614672",
     "status": "completed"
    },
    "tags": []
   },
   "outputs": [
    {
     "data": {
      "text/plain": [
       "loan_amnt            25000.00\n",
       "term                    60.00\n",
       "int_rate                10.99\n",
       "installment            543.44\n",
       "annual_inc          150000.00\n",
       "                      ...    \n",
       "48052                    0.00\n",
       "70466                    0.00\n",
       "86630                    0.00\n",
       "93700                    0.00\n",
       "earliest_cr_year      2000.00\n",
       "Name: 111762, Length: 78, dtype: float64"
      ]
     },
     "execution_count": 122,
     "metadata": {},
     "output_type": "execute_result"
    }
   ],
   "source": [
    "import random\n",
    "random.seed(111)\n",
    "random_ind = random.randint(0,len(df))\n",
    "\n",
    "new1_customer = df.drop('loan_repaid',axis=1).iloc[random_ind]\n",
    "new1_customer"
   ]
  },
  {
   "cell_type": "code",
   "execution_count": 123,
   "id": "e2e170b2",
   "metadata": {
    "execution": {
     "iopub.execute_input": "2022-07-27T15:59:04.422475Z",
     "iopub.status.busy": "2022-07-27T15:59:04.421695Z",
     "iopub.status.idle": "2022-07-27T15:59:04.426619Z",
     "shell.execute_reply": "2022-07-27T15:59:04.425712Z"
    },
    "papermill": {
     "duration": 0.559408,
     "end_time": "2022-07-27T15:59:04.428855",
     "exception": false,
     "start_time": "2022-07-27T15:59:03.869447",
     "status": "completed"
    },
    "tags": []
   },
   "outputs": [],
   "source": [
    "new1_customer=scaler.transform(new1_customer.values.reshape(-1, 78))"
   ]
  },
  {
   "cell_type": "code",
   "execution_count": 124,
   "id": "845f6873",
   "metadata": {
    "execution": {
     "iopub.execute_input": "2022-07-27T15:59:05.543668Z",
     "iopub.status.busy": "2022-07-27T15:59:05.543302Z",
     "iopub.status.idle": "2022-07-27T15:59:05.601494Z",
     "shell.execute_reply": "2022-07-27T15:59:05.600641Z"
    },
    "papermill": {
     "duration": 0.651427,
     "end_time": "2022-07-27T15:59:05.603399",
     "exception": false,
     "start_time": "2022-07-27T15:59:04.951972",
     "status": "completed"
    },
    "tags": []
   },
   "outputs": [
    {
     "data": {
      "text/plain": [
       "array([[1]], dtype=int32)"
      ]
     },
     "execution_count": 124,
     "metadata": {},
     "output_type": "execute_result"
    }
   ],
   "source": [
    "(model.predict(new1_customer) > 0.5).astype(\"int32\")"
   ]
  },
  {
   "cell_type": "markdown",
   "id": "6de1aa37",
   "metadata": {
    "papermill": {
     "duration": 0.587185,
     "end_time": "2022-07-27T15:59:06.707662",
     "exception": false,
     "start_time": "2022-07-27T15:59:06.120477",
     "status": "completed"
    },
    "tags": []
   },
   "source": [
    "####  did this person actually end up paying back their loan?"
   ]
  },
  {
   "cell_type": "code",
   "execution_count": 125,
   "id": "ed338e14",
   "metadata": {
    "execution": {
     "iopub.execute_input": "2022-07-27T15:59:07.820090Z",
     "iopub.status.busy": "2022-07-27T15:59:07.819689Z",
     "iopub.status.idle": "2022-07-27T15:59:07.825913Z",
     "shell.execute_reply": "2022-07-27T15:59:07.825160Z"
    },
    "papermill": {
     "duration": 0.593176,
     "end_time": "2022-07-27T15:59:07.827762",
     "exception": false,
     "start_time": "2022-07-27T15:59:07.234586",
     "status": "completed"
    },
    "tags": []
   },
   "outputs": [
    {
     "data": {
      "text/plain": [
       "1.0"
      ]
     },
     "execution_count": 125,
     "metadata": {},
     "output_type": "execute_result"
    }
   ],
   "source": [
    "df.iloc[random_ind]['loan_repaid']"
   ]
  },
  {
   "cell_type": "code",
   "execution_count": null,
   "id": "0a6a7ecc",
   "metadata": {
    "papermill": {
     "duration": 0.511134,
     "end_time": "2022-07-27T15:59:08.858502",
     "exception": false,
     "start_time": "2022-07-27T15:59:08.347368",
     "status": "completed"
    },
    "tags": []
   },
   "outputs": [],
   "source": []
  }
 ],
 "metadata": {
  "kernelspec": {
   "display_name": "Python 3",
   "language": "python",
   "name": "python3"
  },
  "language_info": {
   "codemirror_mode": {
    "name": "ipython",
    "version": 3
   },
   "file_extension": ".py",
   "mimetype": "text/x-python",
   "name": "python",
   "nbconvert_exporter": "python",
   "pygments_lexer": "ipython3",
   "version": "3.7.12"
  },
  "papermill": {
   "default_parameters": {},
   "duration": 636.371509,
   "end_time": "2022-07-27T15:59:12.859609",
   "environment_variables": {},
   "exception": null,
   "input_path": "__notebook__.ipynb",
   "output_path": "__notebook__.ipynb",
   "parameters": {},
   "start_time": "2022-07-27T15:48:36.488100",
   "version": "2.3.4"
  }
 },
 "nbformat": 4,
 "nbformat_minor": 5
}
